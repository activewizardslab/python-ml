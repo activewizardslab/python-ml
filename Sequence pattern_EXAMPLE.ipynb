{
 "cells": [
  {
   "cell_type": "markdown",
   "metadata": {},
   "source": [
    "## Load modules"
   ]
  },
  {
   "cell_type": "code",
   "execution_count": 1,
   "metadata": {
    "collapsed": true
   },
   "outputs": [],
   "source": [
    "from itertools import combinations"
   ]
  },
  {
   "cell_type": "markdown",
   "metadata": {},
   "source": [
    "## Read file"
   ]
  },
  {
   "cell_type": "code",
   "execution_count": 2,
   "metadata": {
    "collapsed": false
   },
   "outputs": [
    {
     "data": {
      "text/plain": [
       "account_operations.csv MapPartitionsRDD[1] at textFile at NativeMethodAccessorImpl.java:-2"
      ]
     },
     "execution_count": 2,
     "metadata": {},
     "output_type": "execute_result"
    }
   ],
   "source": [
    "fileRDD = sc.textFile(\"account_operations.csv\")\n",
    "fileRDD"
   ]
  },
  {
   "cell_type": "markdown",
   "metadata": {},
   "source": [
    "## Show the data"
   ]
  },
  {
   "cell_type": "code",
   "execution_count": 3,
   "metadata": {
    "collapsed": false
   },
   "outputs": [
    {
     "data": {
      "text/plain": [
       "[u'20.07.2015',\n",
       " u'\"Rank,\"\"Frequency\"\",\"\"% of Total Paths\"\",\"\"Path\"\"\"',\n",
       " u'\"1,\"\"680\"\",\"\"0.23726448011165388\"\",\"\"payment_start->payment details overlay->payment verify overlay->payment confirmation overlay->payment_complete\"\"\"',\n",
       " u'\"2,\"\"370\"\",\"\"0.12909979064898813\"\",\"\"payment hub - payment cards->payment hub - payment verification->payment hub - payment confirmation\"\"\"',\n",
       " u'\"3,\"\"77\"\",\"\"0.026866713189113746\"\",\"\"payment_start->payment details overlay->payment verify overlay->payment confirmation overlay->payment_complete->accounts homepage->payment_start->payment details overlay->payment verify overlay->payment confirmation overlay->payment_complete\"\"\"']"
      ]
     },
     "execution_count": 3,
     "metadata": {},
     "output_type": "execute_result"
    }
   ],
   "source": [
    "fileRDD.take(5)"
   ]
  },
  {
   "cell_type": "markdown",
   "metadata": {},
   "source": [
    "## Split columns"
   ]
  },
  {
   "cell_type": "code",
   "execution_count": 4,
   "metadata": {
    "collapsed": false
   },
   "outputs": [
    {
     "data": {
      "text/plain": [
       "[[u'20.07.2015'],\n",
       " [u'\"Rank', u'\"\"Frequency\"\"', u'\"\"% of Total Paths\"\"', u'\"\"Path\"\"\"'],\n",
       " [u'\"1',\n",
       "  u'\"\"680\"\"',\n",
       "  u'\"\"0.23726448011165388\"\"',\n",
       "  u'\"\"payment_start->payment details overlay->payment verify overlay->payment confirmation overlay->payment_complete\"\"\"']]"
      ]
     },
     "execution_count": 4,
     "metadata": {},
     "output_type": "execute_result"
    }
   ],
   "source": [
    "splited_RDD = fileRDD.map(lambda line: line.split(\",\"))\n",
    "splited_RDD.take(3)"
   ]
  },
  {
   "cell_type": "code",
   "execution_count": 5,
   "metadata": {
    "collapsed": false
   },
   "outputs": [
    {
     "data": {
      "text/plain": [
       "[(u'\"\"Path\"\"\"', u'\"\"Frequency\"\"'),\n",
       " (u'\"\"payment_start->payment details overlay->payment verify overlay->payment confirmation overlay->payment_complete\"\"\"',\n",
       "  u'\"\"680\"\"'),\n",
       " (u'\"\"payment hub - payment cards->payment hub - payment verification->payment hub - payment confirmation\"\"\"',\n",
       "  u'\"\"370\"\"'),\n",
       " (u'\"\"payment_start->payment details overlay->payment verify overlay->payment confirmation overlay->payment_complete->accounts homepage->payment_start->payment details overlay->payment verify overlay->payment confirmation overlay->payment_complete\"\"\"',\n",
       "  u'\"\"77\"\"'),\n",
       " (u'\"\"payment date entry->payment stored->payment stored->payment amount->payment amount->payment confirm->payment success confirmation\"\"\"',\n",
       "  u'\"\"71\"\"'),\n",
       " (u'\"\"payment hub - payment cards->payment hub - payment account->payment hub -payment account verification->payment hub - payment account confirmation->payment hub - payment cards->payment hub - payment verification->payment hub - payment confirmation\"\"\"',\n",
       "  u'\"\"58\"\"'),\n",
       " (u'\"\"payment date entry ->payment stored->payment stored->payment amount->payment confirm->payment success confirmation\"\"\"',\n",
       "  u'\"\"58\"\"'),\n",
       " (u'\"\"payment date entry->payment routing ->payment account ->payment amount->payment amount->payment confirm->payment success confirmation\"\"\"',\n",
       "  u'\"\"44\"\"'),\n",
       " (u'\"\"payment hub - payment cards->payment hub - payment verification->payment hub - payment confirmation\"\"\"',\n",
       "  u'\"\"42\"\"'),\n",
       " (u'\"\"payment_start->payment details overlay->payment verify overlay->payment confirmation overlay->payment_complete->accounts homepage->payment_start->payment details overlay->payment verify overlay->payment confirmation overlay->payment_complete\"\"\"',\n",
       "  u'\"\"35\"\"'),\n",
       " (u'\"\"payment date entry->payment stored->payment stored->payment amount->payment amount->payment confirm->payment success confirmation\"\"\"',\n",
       "  u'\"\"22\"\"'),\n",
       " (u'\"\"payment hub - payment cards->payment hub - payment account->payment hub -payment account verification->payment hub - payment account confirmation->payment hub - payment cards->payment hub - payment verification->payment hub - payment confirmation\"\"\"',\n",
       "  u'\"\"8\"\"'),\n",
       " (u'\"\"payment date entry ->payment stored->payment stored->payment amount->payment confirm->payment success confirmation\"\"\"',\n",
       "  u'\"\"5\"\"'),\n",
       " (u'\"\"payment date entry->payment routing ->payment account ->payment amount->payment amount->payment confirm->payment success confirmation\"\"\"',\n",
       "  u'\"\"1\"\"')]"
      ]
     },
     "execution_count": 5,
     "metadata": {},
     "output_type": "execute_result"
    }
   ],
   "source": [
    "# choose the needed columns\n",
    "pathRDD = splited_RDD.filter(lambda line: len(line)>1).map(lambda line: (line[3],line[1]))\n",
    "pathRDD.collect()"
   ]
  },
  {
   "cell_type": "markdown",
   "metadata": {},
   "source": [
    "## Drop head"
   ]
  },
  {
   "cell_type": "code",
   "execution_count": 6,
   "metadata": {
    "collapsed": false
   },
   "outputs": [
    {
     "data": {
      "text/plain": [
       "[(u'\"\"payment_start->payment details overlay->payment verify overlay->payment confirmation overlay->payment_complete\"\"\"',\n",
       "  u'\"\"680\"\"'),\n",
       " (u'\"\"payment hub - payment cards->payment hub - payment verification->payment hub - payment confirmation\"\"\"',\n",
       "  u'\"\"370\"\"'),\n",
       " (u'\"\"payment_start->payment details overlay->payment verify overlay->payment confirmation overlay->payment_complete->accounts homepage->payment_start->payment details overlay->payment verify overlay->payment confirmation overlay->payment_complete\"\"\"',\n",
       "  u'\"\"77\"\"')]"
      ]
     },
     "execution_count": 6,
     "metadata": {},
     "output_type": "execute_result"
    }
   ],
   "source": [
    "header = pathRDD.first()\n",
    "data_pathRDD = pathRDD.filter(lambda line: line != header)\n",
    "data_pathRDD.take(3)"
   ]
  },
  {
   "cell_type": "markdown",
   "metadata": {},
   "source": [
    "## Drop quotes "
   ]
  },
  {
   "cell_type": "code",
   "execution_count": 7,
   "metadata": {
    "collapsed": false
   },
   "outputs": [
    {
     "data": {
      "text/plain": [
       "[(u'payment_start->payment details overlay->payment verify overlay->payment confirmation overlay->payment_complete',\n",
       "  u'680'),\n",
       " (u'payment hub - payment cards->payment hub - payment verification->payment hub - payment confirmation',\n",
       "  u'370'),\n",
       " (u'payment_start->payment details overlay->payment verify overlay->payment confirmation overlay->payment_complete->accounts homepage->payment_start->payment details overlay->payment verify overlay->payment confirmation overlay->payment_complete',\n",
       "  u'77')]"
      ]
     },
     "execution_count": 7,
     "metadata": {},
     "output_type": "execute_result"
    }
   ],
   "source": [
    "cleaned_pathRDD = data_pathRDD.map(lambda x: (x[0][2:-3], x[1][2:-2]))\n",
    "cleaned_pathRDD.take(3)"
   ]
  },
  {
   "cell_type": "markdown",
   "metadata": {},
   "source": [
    "## Sum of frequencies"
   ]
  },
  {
   "cell_type": "code",
   "execution_count": 8,
   "metadata": {
    "collapsed": false
   },
   "outputs": [
    {
     "data": {
      "text/plain": [
       "[680, 370, 77, 71, 58, 58, 44, 42, 35, 22]"
      ]
     },
     "execution_count": 8,
     "metadata": {},
     "output_type": "execute_result"
    }
   ],
   "source": [
    "frec = cleaned_pathRDD.map(lambda x: int(x[1]))\n",
    "frec.take(10)"
   ]
  },
  {
   "cell_type": "code",
   "execution_count": 9,
   "metadata": {
    "collapsed": false
   },
   "outputs": [
    {
     "data": {
      "text/plain": [
       "1471"
      ]
     },
     "execution_count": 9,
     "metadata": {},
     "output_type": "execute_result"
    }
   ],
   "source": [
    "sum_frec = frec.sum()\n",
    "sum_frec"
   ]
  },
  {
   "cell_type": "code",
   "execution_count": 10,
   "metadata": {
    "collapsed": false
   },
   "outputs": [
    {
     "data": {
      "text/plain": [
       "13"
      ]
     },
     "execution_count": 10,
     "metadata": {},
     "output_type": "execute_result"
    }
   ],
   "source": [
    "n_paths = frec.count()\n",
    "n_paths"
   ]
  },
  {
   "cell_type": "markdown",
   "metadata": {},
   "source": [
    "## Find patterns"
   ]
  },
  {
   "cell_type": "code",
   "execution_count": 11,
   "metadata": {
    "collapsed": true
   },
   "outputs": [],
   "source": [
    "def patterns(text):\n",
    "    text = text.split('->')\n",
    "    output = [list(combinations(text, i)) for i in range(len(text) + 1)]\n",
    "    paths = []\n",
    "    for item in output:\n",
    "        for i in range(len(item)):\n",
    "            if len(item[i])>1 and len(item[i])<6:\n",
    "                paths.append('->'.join(item[i]))\n",
    "    return paths"
   ]
  },
  {
   "cell_type": "code",
   "execution_count": 12,
   "metadata": {
    "collapsed": false
   },
   "outputs": [
    {
     "data": {
      "text/plain": [
       "['A', 'B', 'C', 'D']"
      ]
     },
     "execution_count": 12,
     "metadata": {},
     "output_type": "execute_result"
    }
   ],
   "source": [
    "patt = 'A->B->C->D'\n",
    "patt_spl = patt.split('->')\n",
    "patt_spl"
   ]
  },
  {
   "cell_type": "code",
   "execution_count": 13,
   "metadata": {
    "collapsed": false
   },
   "outputs": [
    {
     "data": {
      "text/plain": [
       "[[()],\n",
       " [('A',), ('B',), ('C',), ('D',)],\n",
       " [('A', 'B'), ('A', 'C'), ('A', 'D'), ('B', 'C'), ('B', 'D'), ('C', 'D')],\n",
       " [('A', 'B', 'C'), ('A', 'B', 'D'), ('A', 'C', 'D'), ('B', 'C', 'D')],\n",
       " [('A', 'B', 'C', 'D')]]"
      ]
     },
     "execution_count": 13,
     "metadata": {},
     "output_type": "execute_result"
    }
   ],
   "source": [
    "output = [list(combinations(patt_spl, i)) for i in range(len(patt_spl) + 1)]\n",
    "output"
   ]
  },
  {
   "cell_type": "code",
   "execution_count": 14,
   "metadata": {
    "collapsed": false
   },
   "outputs": [
    {
     "data": {
      "text/plain": [
       "['A->B',\n",
       " 'A->C',\n",
       " 'A->D',\n",
       " 'B->C',\n",
       " 'B->D',\n",
       " 'C->D',\n",
       " 'A->B->C',\n",
       " 'A->B->D',\n",
       " 'A->C->D',\n",
       " 'B->C->D',\n",
       " 'A->B->C->D']"
      ]
     },
     "execution_count": 14,
     "metadata": {},
     "output_type": "execute_result"
    }
   ],
   "source": [
    "paths = []\n",
    "for item in output:\n",
    "    for i in range(len(item)):\n",
    "        if len(item[i])>1 and len(item[i])<6:\n",
    "            paths.append('->'.join(item[i]))\n",
    "                \n",
    "paths"
   ]
  },
  {
   "cell_type": "code",
   "execution_count": 15,
   "metadata": {
    "collapsed": false
   },
   "outputs": [
    {
     "data": {
      "text/plain": [
       "[([u'payment_start->payment details overlay',\n",
       "   u'payment_start->payment verify overlay',\n",
       "   u'payment_start->payment confirmation overlay',\n",
       "   u'payment_start->payment_complete',\n",
       "   u'payment details overlay->payment verify overlay',\n",
       "   u'payment details overlay->payment confirmation overlay',\n",
       "   u'payment details overlay->payment_complete',\n",
       "   u'payment verify overlay->payment confirmation overlay',\n",
       "   u'payment verify overlay->payment_complete',\n",
       "   u'payment confirmation overlay->payment_complete',\n",
       "   u'payment_start->payment details overlay->payment verify overlay',\n",
       "   u'payment_start->payment details overlay->payment confirmation overlay',\n",
       "   u'payment_start->payment details overlay->payment_complete',\n",
       "   u'payment_start->payment verify overlay->payment confirmation overlay',\n",
       "   u'payment_start->payment verify overlay->payment_complete',\n",
       "   u'payment_start->payment confirmation overlay->payment_complete',\n",
       "   u'payment details overlay->payment verify overlay->payment confirmation overlay',\n",
       "   u'payment details overlay->payment verify overlay->payment_complete',\n",
       "   u'payment details overlay->payment confirmation overlay->payment_complete',\n",
       "   u'payment verify overlay->payment confirmation overlay->payment_complete',\n",
       "   u'payment_start->payment details overlay->payment verify overlay->payment confirmation overlay',\n",
       "   u'payment_start->payment details overlay->payment verify overlay->payment_complete',\n",
       "   u'payment_start->payment details overlay->payment confirmation overlay->payment_complete',\n",
       "   u'payment_start->payment verify overlay->payment confirmation overlay->payment_complete',\n",
       "   u'payment details overlay->payment verify overlay->payment confirmation overlay->payment_complete',\n",
       "   u'payment_start->payment details overlay->payment verify overlay->payment confirmation overlay->payment_complete'],\n",
       "  u'680'),\n",
       " ([u'payment hub - payment cards->payment hub - payment verification',\n",
       "   u'payment hub - payment cards->payment hub - payment confirmation',\n",
       "   u'payment hub - payment verification->payment hub - payment confirmation',\n",
       "   u'payment hub - payment cards->payment hub - payment verification->payment hub - payment confirmation'],\n",
       "  u'370')]"
      ]
     },
     "execution_count": 15,
     "metadata": {},
     "output_type": "execute_result"
    }
   ],
   "source": [
    "sub_patterns = cleaned_pathRDD.map(lambda (x,y): (patterns(x), y))\n",
    "sub_patterns.take(2)"
   ]
  },
  {
   "cell_type": "markdown",
   "metadata": {},
   "source": [
    "## Find weights for each pattern"
   ]
  },
  {
   "cell_type": "code",
   "execution_count": 16,
   "metadata": {
    "collapsed": true
   },
   "outputs": [],
   "source": [
    "def pair(x, y):\n",
    "    w = []\n",
    "    for i in x:\n",
    "        w.append((i,float(int(y))/sum_frec))\n",
    "    return w        "
   ]
  },
  {
   "cell_type": "code",
   "execution_count": 17,
   "metadata": {
    "collapsed": false
   },
   "outputs": [
    {
     "data": {
      "text/plain": [
       "[[(u'payment_start->payment details overlay', 0.46227056424201224),\n",
       "  (u'payment_start->payment verify overlay', 0.46227056424201224),\n",
       "  (u'payment_start->payment confirmation overlay', 0.46227056424201224),\n",
       "  (u'payment_start->payment_complete', 0.46227056424201224),\n",
       "  (u'payment details overlay->payment verify overlay', 0.46227056424201224),\n",
       "  (u'payment details overlay->payment confirmation overlay',\n",
       "   0.46227056424201224),\n",
       "  (u'payment details overlay->payment_complete', 0.46227056424201224),\n",
       "  (u'payment verify overlay->payment confirmation overlay',\n",
       "   0.46227056424201224),\n",
       "  (u'payment verify overlay->payment_complete', 0.46227056424201224),\n",
       "  (u'payment confirmation overlay->payment_complete', 0.46227056424201224),\n",
       "  (u'payment_start->payment details overlay->payment verify overlay',\n",
       "   0.46227056424201224),\n",
       "  (u'payment_start->payment details overlay->payment confirmation overlay',\n",
       "   0.46227056424201224),\n",
       "  (u'payment_start->payment details overlay->payment_complete',\n",
       "   0.46227056424201224),\n",
       "  (u'payment_start->payment verify overlay->payment confirmation overlay',\n",
       "   0.46227056424201224),\n",
       "  (u'payment_start->payment verify overlay->payment_complete',\n",
       "   0.46227056424201224),\n",
       "  (u'payment_start->payment confirmation overlay->payment_complete',\n",
       "   0.46227056424201224),\n",
       "  (u'payment details overlay->payment verify overlay->payment confirmation overlay',\n",
       "   0.46227056424201224),\n",
       "  (u'payment details overlay->payment verify overlay->payment_complete',\n",
       "   0.46227056424201224),\n",
       "  (u'payment details overlay->payment confirmation overlay->payment_complete',\n",
       "   0.46227056424201224),\n",
       "  (u'payment verify overlay->payment confirmation overlay->payment_complete',\n",
       "   0.46227056424201224),\n",
       "  (u'payment_start->payment details overlay->payment verify overlay->payment confirmation overlay',\n",
       "   0.46227056424201224),\n",
       "  (u'payment_start->payment details overlay->payment verify overlay->payment_complete',\n",
       "   0.46227056424201224),\n",
       "  (u'payment_start->payment details overlay->payment confirmation overlay->payment_complete',\n",
       "   0.46227056424201224),\n",
       "  (u'payment_start->payment verify overlay->payment confirmation overlay->payment_complete',\n",
       "   0.46227056424201224),\n",
       "  (u'payment details overlay->payment verify overlay->payment confirmation overlay->payment_complete',\n",
       "   0.46227056424201224),\n",
       "  (u'payment_start->payment details overlay->payment verify overlay->payment confirmation overlay->payment_complete',\n",
       "   0.46227056424201224)],\n",
       " [(u'payment hub - payment cards->payment hub - payment verification',\n",
       "   0.2515295717199184),\n",
       "  (u'payment hub - payment cards->payment hub - payment confirmation',\n",
       "   0.2515295717199184),\n",
       "  (u'payment hub - payment verification->payment hub - payment confirmation',\n",
       "   0.2515295717199184),\n",
       "  (u'payment hub - payment cards->payment hub - payment verification->payment hub - payment confirmation',\n",
       "   0.2515295717199184)]]"
      ]
     },
     "execution_count": 17,
     "metadata": {},
     "output_type": "execute_result"
    }
   ],
   "source": [
    "p_weights =  sub_patterns.map(lambda x: pair(x[0], x[1]))\n",
    "p_weights.take(2)"
   ]
  },
  {
   "cell_type": "markdown",
   "metadata": {},
   "source": [
    "## Collect al subpatterns. "
   ]
  },
  {
   "cell_type": "code",
   "execution_count": 18,
   "metadata": {
    "collapsed": false
   },
   "outputs": [
    {
     "data": {
      "text/plain": [
       "[(u'payment_start->payment details overlay', 0.46227056424201224),\n",
       " (u'payment_start->payment verify overlay', 0.46227056424201224),\n",
       " (u'payment_start->payment confirmation overlay', 0.46227056424201224),\n",
       " (u'payment_start->payment_complete', 0.46227056424201224),\n",
       " (u'payment details overlay->payment verify overlay', 0.46227056424201224),\n",
       " (u'payment details overlay->payment confirmation overlay',\n",
       "  0.46227056424201224),\n",
       " (u'payment details overlay->payment_complete', 0.46227056424201224),\n",
       " (u'payment verify overlay->payment confirmation overlay',\n",
       "  0.46227056424201224),\n",
       " (u'payment verify overlay->payment_complete', 0.46227056424201224),\n",
       " (u'payment confirmation overlay->payment_complete', 0.46227056424201224)]"
      ]
     },
     "execution_count": 18,
     "metadata": {},
     "output_type": "execute_result"
    }
   ],
   "source": [
    "p_all = p_weights.flatMap(lambda x: x)\n",
    "p_all.take(10)"
   ]
  },
  {
   "cell_type": "code",
   "execution_count": 19,
   "metadata": {
    "collapsed": false
   },
   "outputs": [
    {
     "data": {
      "text/plain": [
       "[(u'payment details overlay->payment details overlay->payment verify overlay->payment confirmation overlay',\n",
       "  0.07613868116927261),\n",
       " (u'payment_start->payment verify overlay->payment confirmation overlay->payment_complete->payment details overlay',\n",
       "  0.07613868116927261),\n",
       " (u'payment hub -payment account verification->payment hub - payment verification->payment hub - payment confirmation',\n",
       "  0.04486743711760707),\n",
       " (u'payment verify overlay->payment confirmation overlay->payment_complete->payment_start',\n",
       "  0.07613868116927261),\n",
       " (u'payment_start->payment details overlay->accounts homepage',\n",
       "  0.07613868116927261)]"
      ]
     },
     "execution_count": 19,
     "metadata": {},
     "output_type": "execute_result"
    }
   ],
   "source": [
    "p_grouped = p_all.reduceByKey(lambda a,b: a+b).cache()\n",
    "p_grouped.take(5)"
   ]
  },
  {
   "cell_type": "markdown",
   "metadata": {},
   "source": [
    "## Take top patterns"
   ]
  },
  {
   "cell_type": "code",
   "execution_count": 20,
   "metadata": {
    "collapsed": false
   },
   "outputs": [
    {
     "data": {
      "text/plain": [
       "[(u'payment_start->payment details overlay->payment verify overlay->payment confirmation overlay->payment_complete',\n",
       "  0.9191026512576483),\n",
       " (u'payment_start->payment verify overlay->payment confirmation overlay->payment_complete',\n",
       "  0.8429639700883756),\n",
       " (u'payment_start->payment details overlay->payment verify overlay->payment confirmation overlay',\n",
       "  0.8429639700883756),\n",
       " (u'payment details overlay->payment verify overlay->payment confirmation overlay->payment_complete',\n",
       "  0.8429639700883756),\n",
       " (u'payment_start->payment details overlay->payment verify overlay->payment_complete',\n",
       "  0.8429639700883756),\n",
       " (u'payment_start->payment details overlay->payment confirmation overlay->payment_complete',\n",
       "  0.8429639700883756),\n",
       " (u'payment_start->payment verify overlay->payment_complete',\n",
       "  0.766825288919103),\n",
       " (u'payment_start->payment details overlay->payment verify overlay',\n",
       "  0.766825288919103),\n",
       " (u'payment_start->payment details overlay->payment confirmation overlay',\n",
       "  0.766825288919103),\n",
       " (u'payment_start->payment verify overlay->payment confirmation overlay',\n",
       "  0.766825288919103),\n",
       " (u'payment details overlay->payment verify overlay->payment_complete',\n",
       "  0.766825288919103),\n",
       " (u'payment_start->payment details overlay->payment_complete',\n",
       "  0.766825288919103),\n",
       " (u'payment details overlay->payment confirmation overlay->payment_complete',\n",
       "  0.766825288919103),\n",
       " (u'payment details overlay->payment verify overlay->payment confirmation overlay',\n",
       "  0.766825288919103),\n",
       " (u'payment_start->payment confirmation overlay->payment_complete',\n",
       "  0.766825288919103),\n",
       " (u'payment verify overlay->payment confirmation overlay->payment_complete',\n",
       "  0.766825288919103),\n",
       " (u'payment details overlay->payment verify overlay', 0.6906866077498303),\n",
       " (u'payment_start->payment_complete', 0.6906866077498303),\n",
       " (u'payment verify overlay->payment_complete', 0.6906866077498303),\n",
       " (u'payment_start->payment confirmation overlay', 0.6906866077498303)]"
      ]
     },
     "execution_count": 20,
     "metadata": {},
     "output_type": "execute_result"
    }
   ],
   "source": [
    "top_20 = p_grouped.takeOrdered(20, lambda s: -1 * s[1])\n",
    "top_20"
   ]
  },
  {
   "cell_type": "markdown",
   "metadata": {},
   "source": [
    "## Save all results to file"
   ]
  },
  {
   "cell_type": "code",
   "execution_count": 69,
   "metadata": {
    "collapsed": false
   },
   "outputs": [],
   "source": [
    "p_grouped.saveAsTextFile(\"subpaterns_result.csv\")"
   ]
  }
 ],
 "metadata": {
  "kernelspec": {
   "display_name": "Python 2",
   "language": "python",
   "name": "python2"
  },
  "language_info": {
   "codemirror_mode": {
    "name": "ipython",
    "version": 2
   },
   "file_extension": ".py",
   "mimetype": "text/x-python",
   "name": "python",
   "nbconvert_exporter": "python",
   "pygments_lexer": "ipython2",
   "version": "2.7.6"
  }
 },
 "nbformat": 4,
 "nbformat_minor": 0
}
