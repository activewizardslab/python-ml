{
 "cells": [
  {
   "cell_type": "markdown",
   "metadata": {},
   "source": [
    "# Import modules"
   ]
  },
  {
   "cell_type": "code",
   "execution_count": 50,
   "metadata": {
    "collapsed": false
   },
   "outputs": [],
   "source": [
    "import pandas as pd\n",
    "from datetime import datetime\n",
    "import datetime as dt\n",
    "from itertools import groupby\n",
    "from datetime import date"
   ]
  },
  {
   "cell_type": "markdown",
   "metadata": {},
   "source": [
    "# Loading data "
   ]
  },
  {
   "cell_type": "code",
   "execution_count": 299,
   "metadata": {
    "collapsed": false
   },
   "outputs": [],
   "source": [
    "lead = pd.read_csv(\"leads.csv\")\n",
    "account = pd.read_csv(\"accounts.csv\")"
   ]
  },
  {
   "cell_type": "code",
   "execution_count": 300,
   "metadata": {
    "collapsed": false
   },
   "outputs": [
    {
     "data": {
      "text/plain": [
       "2074"
      ]
     },
     "execution_count": 300,
     "metadata": {},
     "output_type": "execute_result"
    }
   ],
   "source": [
    "len(lead)"
   ]
  },
  {
   "cell_type": "code",
   "execution_count": 302,
   "metadata": {
    "collapsed": false
   },
   "outputs": [],
   "source": [
    "lead = lead.dropna(subset = ['Form Submission Date'])\n",
    "account = account.dropna(subset = ['Form Submission Date'])\n",
    "lead = lead.dropna(subset = ['Lead Source'])\n",
    "account = account.dropna(subset = ['Lead Source'])"
   ]
  },
  {
   "cell_type": "code",
   "execution_count": 303,
   "metadata": {
    "collapsed": false
   },
   "outputs": [],
   "source": [
    "lead.rename(columns={'Lead Status': 'Status', 'Lead Owner': 'Owner'}, inplace=True)\n",
    "account.rename(columns={'Account Owner': 'Owner'}, inplace=True)"
   ]
  },
  {
   "cell_type": "code",
   "execution_count": 304,
   "metadata": {
    "collapsed": false
   },
   "outputs": [],
   "source": [
    "df = pd.concat([lead, account])\n",
    "df.index = range(len(df.Status))"
   ]
  },
  {
   "cell_type": "code",
   "execution_count": 305,
   "metadata": {
    "collapsed": true
   },
   "outputs": [],
   "source": [
    "df_1 = df[[\"Lead Source\", \"Form Submission Date\"]]"
   ]
  },
  {
   "cell_type": "code",
   "execution_count": 307,
   "metadata": {
    "collapsed": false
   },
   "outputs": [
    {
     "data": {
      "text/html": [
       "<div style=\"max-height:1000px;max-width:1500px;overflow:auto;\">\n",
       "<table border=\"1\" class=\"dataframe\">\n",
       "  <thead>\n",
       "    <tr style=\"text-align: right;\">\n",
       "      <th></th>\n",
       "      <th>Lead Source</th>\n",
       "      <th>Form Submission Date</th>\n",
       "    </tr>\n",
       "  </thead>\n",
       "  <tbody>\n",
       "    <tr>\n",
       "      <th>0</th>\n",
       "      <td> VFS Website - Apply</td>\n",
       "      <td> 9/1/2014</td>\n",
       "    </tr>\n",
       "    <tr>\n",
       "      <th>1</th>\n",
       "      <td>  VFS Email Campaign</td>\n",
       "      <td> 9/1/2014</td>\n",
       "    </tr>\n",
       "    <tr>\n",
       "      <th>2</th>\n",
       "      <td> VFS Website - Apply</td>\n",
       "      <td> 9/1/2014</td>\n",
       "    </tr>\n",
       "  </tbody>\n",
       "</table>\n",
       "</div>"
      ],
      "text/plain": [
       "           Lead Source Form Submission Date\n",
       "0  VFS Website - Apply             9/1/2014\n",
       "1   VFS Email Campaign             9/1/2014\n",
       "2  VFS Website - Apply             9/1/2014"
      ]
     },
     "execution_count": 307,
     "metadata": {},
     "output_type": "execute_result"
    }
   ],
   "source": [
    "df_1[:3]"
   ]
  },
  {
   "cell_type": "code",
   "execution_count": 308,
   "metadata": {
    "collapsed": false
   },
   "outputs": [
    {
     "data": {
      "text/plain": [
       "Index([u'Lead Source', u'Form Submission Date'], dtype='object')"
      ]
     },
     "execution_count": 308,
     "metadata": {},
     "output_type": "execute_result"
    }
   ],
   "source": [
    "df_1.columns"
   ]
  },
  {
   "cell_type": "code",
   "execution_count": 309,
   "metadata": {
    "collapsed": false
   },
   "outputs": [],
   "source": [
    "for i,item in enumerate(df_1[\"Lead Source\"]):\n",
    "    if item.startswith(\"VFS Website\"):\n",
    "        df_1[\"Lead Source\"][i] = 'VFS Website'"
   ]
  },
  {
   "cell_type": "code",
   "execution_count": 310,
   "metadata": {
    "collapsed": false
   },
   "outputs": [],
   "source": [
    "for i,item in enumerate(df_1[\"Lead Source\"]):\n",
    "    if item.startswith(\"Facebook\"):\n",
    "        df_1[\"Lead Source\"][i] = 'Facebook'"
   ]
  },
  {
   "cell_type": "code",
   "execution_count": 311,
   "metadata": {
    "collapsed": false
   },
   "outputs": [],
   "source": [
    "for i,item in enumerate(df_1[\"Lead Source\"]):\n",
    "    if item.startswith(\"DIGS\"):\n",
    "        df_1[\"Lead Source\"][i] = 'DIGS'"
   ]
  },
  {
   "cell_type": "code",
   "execution_count": 201,
   "metadata": {
    "collapsed": false
   },
   "outputs": [
    {
     "data": {
      "text/html": [
       "<div style=\"max-height:1000px;max-width:1500px;overflow:auto;\">\n",
       "<table border=\"1\" class=\"dataframe\">\n",
       "  <thead>\n",
       "    <tr style=\"text-align: right;\">\n",
       "      <th></th>\n",
       "      <th>Lead Source</th>\n",
       "      <th>Form Submission Date</th>\n",
       "      <th>Sunday date</th>\n",
       "      <th>Sunday date of last week</th>\n",
       "      <th>Month</th>\n",
       "      <th>Days</th>\n",
       "    </tr>\n",
       "  </thead>\n",
       "  <tbody>\n",
       "    <tr>\n",
       "      <th>0   </th>\n",
       "      <td>        VFS Website</td>\n",
       "      <td>  9/1/2014</td>\n",
       "      <td> 08-31-2014</td>\n",
       "      <td> 08-24-2014</td>\n",
       "      <td> 09-2014</td>\n",
       "      <td> 09-01-2014</td>\n",
       "    </tr>\n",
       "    <tr>\n",
       "      <th>1   </th>\n",
       "      <td> VFS Email Campaign</td>\n",
       "      <td>  9/1/2014</td>\n",
       "      <td> 08-31-2014</td>\n",
       "      <td> 08-24-2014</td>\n",
       "      <td> 09-2014</td>\n",
       "      <td> 09-01-2014</td>\n",
       "    </tr>\n",
       "    <tr>\n",
       "      <th>2   </th>\n",
       "      <td>        VFS Website</td>\n",
       "      <td>  9/1/2014</td>\n",
       "      <td> 08-31-2014</td>\n",
       "      <td> 08-24-2014</td>\n",
       "      <td> 09-2014</td>\n",
       "      <td> 09-01-2014</td>\n",
       "    </tr>\n",
       "    <tr>\n",
       "      <th>3   </th>\n",
       "      <td>        VFS Website</td>\n",
       "      <td>  9/1/2014</td>\n",
       "      <td> 08-31-2014</td>\n",
       "      <td> 08-24-2014</td>\n",
       "      <td> 09-2014</td>\n",
       "      <td> 09-01-2014</td>\n",
       "    </tr>\n",
       "    <tr>\n",
       "      <th>4   </th>\n",
       "      <td>        VFS Website</td>\n",
       "      <td>  9/1/2014</td>\n",
       "      <td> 08-31-2014</td>\n",
       "      <td> 08-24-2014</td>\n",
       "      <td> 09-2014</td>\n",
       "      <td> 09-01-2014</td>\n",
       "    </tr>\n",
       "    <tr>\n",
       "      <th>5   </th>\n",
       "      <td>        VFS Website</td>\n",
       "      <td>  9/2/2014</td>\n",
       "      <td> 08-31-2014</td>\n",
       "      <td> 08-24-2014</td>\n",
       "      <td> 09-2014</td>\n",
       "      <td> 09-02-2014</td>\n",
       "    </tr>\n",
       "    <tr>\n",
       "      <th>6   </th>\n",
       "      <td>               DIGS</td>\n",
       "      <td>  9/2/2014</td>\n",
       "      <td> 08-31-2014</td>\n",
       "      <td> 08-24-2014</td>\n",
       "      <td> 09-2014</td>\n",
       "      <td> 09-02-2014</td>\n",
       "    </tr>\n",
       "    <tr>\n",
       "      <th>7   </th>\n",
       "      <td>               DIGS</td>\n",
       "      <td>  9/2/2014</td>\n",
       "      <td> 08-31-2014</td>\n",
       "      <td> 08-24-2014</td>\n",
       "      <td> 09-2014</td>\n",
       "      <td> 09-02-2014</td>\n",
       "    </tr>\n",
       "    <tr>\n",
       "      <th>8   </th>\n",
       "      <td>        VFS Website</td>\n",
       "      <td>  9/2/2014</td>\n",
       "      <td> 08-31-2014</td>\n",
       "      <td> 08-24-2014</td>\n",
       "      <td> 09-2014</td>\n",
       "      <td> 09-02-2014</td>\n",
       "    </tr>\n",
       "    <tr>\n",
       "      <th>9   </th>\n",
       "      <td>        VFS Website</td>\n",
       "      <td>  9/2/2014</td>\n",
       "      <td> 08-31-2014</td>\n",
       "      <td> 08-24-2014</td>\n",
       "      <td> 09-2014</td>\n",
       "      <td> 09-02-2014</td>\n",
       "    </tr>\n",
       "    <tr>\n",
       "      <th>10  </th>\n",
       "      <td>        VFS Website</td>\n",
       "      <td>  9/2/2014</td>\n",
       "      <td> 08-31-2014</td>\n",
       "      <td> 08-24-2014</td>\n",
       "      <td> 09-2014</td>\n",
       "      <td> 09-02-2014</td>\n",
       "    </tr>\n",
       "    <tr>\n",
       "      <th>11  </th>\n",
       "      <td>        VFS Website</td>\n",
       "      <td>  9/2/2014</td>\n",
       "      <td> 08-31-2014</td>\n",
       "      <td> 08-24-2014</td>\n",
       "      <td> 09-2014</td>\n",
       "      <td> 09-02-2014</td>\n",
       "    </tr>\n",
       "    <tr>\n",
       "      <th>12  </th>\n",
       "      <td>        VFS Website</td>\n",
       "      <td>  9/3/2014</td>\n",
       "      <td> 08-31-2014</td>\n",
       "      <td> 08-24-2014</td>\n",
       "      <td> 09-2014</td>\n",
       "      <td> 09-03-2014</td>\n",
       "    </tr>\n",
       "    <tr>\n",
       "      <th>13  </th>\n",
       "      <td>               DIGS</td>\n",
       "      <td>  9/3/2014</td>\n",
       "      <td> 08-31-2014</td>\n",
       "      <td> 08-24-2014</td>\n",
       "      <td> 09-2014</td>\n",
       "      <td> 09-03-2014</td>\n",
       "    </tr>\n",
       "    <tr>\n",
       "      <th>14  </th>\n",
       "      <td>        VFS Website</td>\n",
       "      <td>  9/3/2014</td>\n",
       "      <td> 08-31-2014</td>\n",
       "      <td> 08-24-2014</td>\n",
       "      <td> 09-2014</td>\n",
       "      <td> 09-03-2014</td>\n",
       "    </tr>\n",
       "    <tr>\n",
       "      <th>15  </th>\n",
       "      <td>        VFS Website</td>\n",
       "      <td>  9/3/2014</td>\n",
       "      <td> 08-31-2014</td>\n",
       "      <td> 08-24-2014</td>\n",
       "      <td> 09-2014</td>\n",
       "      <td> 09-03-2014</td>\n",
       "    </tr>\n",
       "    <tr>\n",
       "      <th>16  </th>\n",
       "      <td>        VFS Website</td>\n",
       "      <td>  9/4/2014</td>\n",
       "      <td> 08-31-2014</td>\n",
       "      <td> 08-24-2014</td>\n",
       "      <td> 09-2014</td>\n",
       "      <td> 09-04-2014</td>\n",
       "    </tr>\n",
       "    <tr>\n",
       "      <th>17  </th>\n",
       "      <td>        VFS Website</td>\n",
       "      <td>  9/4/2014</td>\n",
       "      <td> 08-31-2014</td>\n",
       "      <td> 08-24-2014</td>\n",
       "      <td> 09-2014</td>\n",
       "      <td> 09-04-2014</td>\n",
       "    </tr>\n",
       "    <tr>\n",
       "      <th>18  </th>\n",
       "      <td>        VFS Website</td>\n",
       "      <td>  9/4/2014</td>\n",
       "      <td> 08-31-2014</td>\n",
       "      <td> 08-24-2014</td>\n",
       "      <td> 09-2014</td>\n",
       "      <td> 09-04-2014</td>\n",
       "    </tr>\n",
       "    <tr>\n",
       "      <th>19  </th>\n",
       "      <td> VFS Email Campaign</td>\n",
       "      <td>  9/4/2014</td>\n",
       "      <td> 08-31-2014</td>\n",
       "      <td> 08-24-2014</td>\n",
       "      <td> 09-2014</td>\n",
       "      <td> 09-04-2014</td>\n",
       "    </tr>\n",
       "    <tr>\n",
       "      <th>20  </th>\n",
       "      <td>        VFS Website</td>\n",
       "      <td>  9/4/2014</td>\n",
       "      <td> 08-31-2014</td>\n",
       "      <td> 08-24-2014</td>\n",
       "      <td> 09-2014</td>\n",
       "      <td> 09-04-2014</td>\n",
       "    </tr>\n",
       "    <tr>\n",
       "      <th>21  </th>\n",
       "      <td>        VFS Website</td>\n",
       "      <td>  9/4/2014</td>\n",
       "      <td> 08-31-2014</td>\n",
       "      <td> 08-24-2014</td>\n",
       "      <td> 09-2014</td>\n",
       "      <td> 09-04-2014</td>\n",
       "    </tr>\n",
       "    <tr>\n",
       "      <th>22  </th>\n",
       "      <td>        VFS Website</td>\n",
       "      <td>  9/4/2014</td>\n",
       "      <td> 08-31-2014</td>\n",
       "      <td> 08-24-2014</td>\n",
       "      <td> 09-2014</td>\n",
       "      <td> 09-04-2014</td>\n",
       "    </tr>\n",
       "    <tr>\n",
       "      <th>23  </th>\n",
       "      <td>        VFS Website</td>\n",
       "      <td>  9/5/2014</td>\n",
       "      <td> 08-31-2014</td>\n",
       "      <td> 08-24-2014</td>\n",
       "      <td> 09-2014</td>\n",
       "      <td> 09-05-2014</td>\n",
       "    </tr>\n",
       "    <tr>\n",
       "      <th>24  </th>\n",
       "      <td>        VFS Website</td>\n",
       "      <td>  9/6/2014</td>\n",
       "      <td> 09-07-2014</td>\n",
       "      <td> 08-31-2014</td>\n",
       "      <td> 09-2014</td>\n",
       "      <td> 09-06-2014</td>\n",
       "    </tr>\n",
       "    <tr>\n",
       "      <th>25  </th>\n",
       "      <td>               DIGS</td>\n",
       "      <td>  9/6/2014</td>\n",
       "      <td> 09-07-2014</td>\n",
       "      <td> 08-31-2014</td>\n",
       "      <td> 09-2014</td>\n",
       "      <td> 09-06-2014</td>\n",
       "    </tr>\n",
       "    <tr>\n",
       "      <th>26  </th>\n",
       "      <td> VFS Email Campaign</td>\n",
       "      <td>  9/7/2014</td>\n",
       "      <td> 09-07-2014</td>\n",
       "      <td> 08-31-2014</td>\n",
       "      <td> 09-2014</td>\n",
       "      <td> 09-07-2014</td>\n",
       "    </tr>\n",
       "    <tr>\n",
       "      <th>27  </th>\n",
       "      <td>        VFS Website</td>\n",
       "      <td>  9/7/2014</td>\n",
       "      <td> 09-07-2014</td>\n",
       "      <td> 08-31-2014</td>\n",
       "      <td> 09-2014</td>\n",
       "      <td> 09-07-2014</td>\n",
       "    </tr>\n",
       "    <tr>\n",
       "      <th>28  </th>\n",
       "      <td>               DIGS</td>\n",
       "      <td>  9/7/2014</td>\n",
       "      <td> 09-07-2014</td>\n",
       "      <td> 08-31-2014</td>\n",
       "      <td> 09-2014</td>\n",
       "      <td> 09-07-2014</td>\n",
       "    </tr>\n",
       "    <tr>\n",
       "      <th>29  </th>\n",
       "      <td>        VFS Website</td>\n",
       "      <td>  9/8/2014</td>\n",
       "      <td> 09-07-2014</td>\n",
       "      <td> 08-31-2014</td>\n",
       "      <td> 09-2014</td>\n",
       "      <td> 09-08-2014</td>\n",
       "    </tr>\n",
       "    <tr>\n",
       "      <th>...</th>\n",
       "      <td>...</td>\n",
       "      <td>...</td>\n",
       "      <td>...</td>\n",
       "      <td>...</td>\n",
       "      <td>...</td>\n",
       "      <td>...</td>\n",
       "    </tr>\n",
       "    <tr>\n",
       "      <th>4059</th>\n",
       "      <td>               DIGS</td>\n",
       "      <td> 5/27/2015</td>\n",
       "      <td> 05-24-2015</td>\n",
       "      <td> 05-17-2015</td>\n",
       "      <td> 05-2015</td>\n",
       "      <td> 05-27-2015</td>\n",
       "    </tr>\n",
       "    <tr>\n",
       "      <th>4060</th>\n",
       "      <td>               DIGS</td>\n",
       "      <td> 5/27/2015</td>\n",
       "      <td> 05-24-2015</td>\n",
       "      <td> 05-17-2015</td>\n",
       "      <td> 05-2015</td>\n",
       "      <td> 05-27-2015</td>\n",
       "    </tr>\n",
       "    <tr>\n",
       "      <th>4061</th>\n",
       "      <td>               DIGS</td>\n",
       "      <td> 5/27/2015</td>\n",
       "      <td> 05-24-2015</td>\n",
       "      <td> 05-17-2015</td>\n",
       "      <td> 05-2015</td>\n",
       "      <td> 05-27-2015</td>\n",
       "    </tr>\n",
       "    <tr>\n",
       "      <th>4062</th>\n",
       "      <td>  External Referral</td>\n",
       "      <td> 5/27/2015</td>\n",
       "      <td> 05-24-2015</td>\n",
       "      <td> 05-17-2015</td>\n",
       "      <td> 05-2015</td>\n",
       "      <td> 05-27-2015</td>\n",
       "    </tr>\n",
       "    <tr>\n",
       "      <th>4063</th>\n",
       "      <td>          Google Ad</td>\n",
       "      <td> 5/27/2015</td>\n",
       "      <td> 05-24-2015</td>\n",
       "      <td> 05-17-2015</td>\n",
       "      <td> 05-2015</td>\n",
       "      <td> 05-27-2015</td>\n",
       "    </tr>\n",
       "    <tr>\n",
       "      <th>4064</th>\n",
       "      <td>               DIGS</td>\n",
       "      <td> 5/27/2015</td>\n",
       "      <td> 05-24-2015</td>\n",
       "      <td> 05-17-2015</td>\n",
       "      <td> 05-2015</td>\n",
       "      <td> 05-27-2015</td>\n",
       "    </tr>\n",
       "    <tr>\n",
       "      <th>4065</th>\n",
       "      <td>               DIGS</td>\n",
       "      <td> 5/27/2015</td>\n",
       "      <td> 05-24-2015</td>\n",
       "      <td> 05-17-2015</td>\n",
       "      <td> 05-2015</td>\n",
       "      <td> 05-27-2015</td>\n",
       "    </tr>\n",
       "    <tr>\n",
       "      <th>4066</th>\n",
       "      <td>        VFS Website</td>\n",
       "      <td> 5/28/2015</td>\n",
       "      <td> 05-24-2015</td>\n",
       "      <td> 05-17-2015</td>\n",
       "      <td> 05-2015</td>\n",
       "      <td> 05-28-2015</td>\n",
       "    </tr>\n",
       "    <tr>\n",
       "      <th>4067</th>\n",
       "      <td>  External Referral</td>\n",
       "      <td> 5/28/2015</td>\n",
       "      <td> 05-24-2015</td>\n",
       "      <td> 05-17-2015</td>\n",
       "      <td> 05-2015</td>\n",
       "      <td> 05-28-2015</td>\n",
       "    </tr>\n",
       "    <tr>\n",
       "      <th>4068</th>\n",
       "      <td>               DIGS</td>\n",
       "      <td> 5/28/2015</td>\n",
       "      <td> 05-24-2015</td>\n",
       "      <td> 05-17-2015</td>\n",
       "      <td> 05-2015</td>\n",
       "      <td> 05-28-2015</td>\n",
       "    </tr>\n",
       "    <tr>\n",
       "      <th>4069</th>\n",
       "      <td>               DIGS</td>\n",
       "      <td> 5/28/2015</td>\n",
       "      <td> 05-24-2015</td>\n",
       "      <td> 05-17-2015</td>\n",
       "      <td> 05-2015</td>\n",
       "      <td> 05-28-2015</td>\n",
       "    </tr>\n",
       "    <tr>\n",
       "      <th>4070</th>\n",
       "      <td>  External Referral</td>\n",
       "      <td> 5/28/2015</td>\n",
       "      <td> 05-24-2015</td>\n",
       "      <td> 05-17-2015</td>\n",
       "      <td> 05-2015</td>\n",
       "      <td> 05-28-2015</td>\n",
       "    </tr>\n",
       "    <tr>\n",
       "      <th>4071</th>\n",
       "      <td>               DIGS</td>\n",
       "      <td> 5/28/2015</td>\n",
       "      <td> 05-24-2015</td>\n",
       "      <td> 05-17-2015</td>\n",
       "      <td> 05-2015</td>\n",
       "      <td> 05-28-2015</td>\n",
       "    </tr>\n",
       "    <tr>\n",
       "      <th>4072</th>\n",
       "      <td>          Google Ad</td>\n",
       "      <td> 5/28/2015</td>\n",
       "      <td> 05-24-2015</td>\n",
       "      <td> 05-17-2015</td>\n",
       "      <td> 05-2015</td>\n",
       "      <td> 05-28-2015</td>\n",
       "    </tr>\n",
       "    <tr>\n",
       "      <th>4073</th>\n",
       "      <td>        VFS Website</td>\n",
       "      <td> 5/28/2015</td>\n",
       "      <td> 05-24-2015</td>\n",
       "      <td> 05-17-2015</td>\n",
       "      <td> 05-2015</td>\n",
       "      <td> 05-28-2015</td>\n",
       "    </tr>\n",
       "    <tr>\n",
       "      <th>4074</th>\n",
       "      <td>        VFS Website</td>\n",
       "      <td> 5/28/2015</td>\n",
       "      <td> 05-24-2015</td>\n",
       "      <td> 05-17-2015</td>\n",
       "      <td> 05-2015</td>\n",
       "      <td> 05-28-2015</td>\n",
       "    </tr>\n",
       "    <tr>\n",
       "      <th>4075</th>\n",
       "      <td>        VFS Website</td>\n",
       "      <td> 5/29/2015</td>\n",
       "      <td> 05-24-2015</td>\n",
       "      <td> 05-17-2015</td>\n",
       "      <td> 05-2015</td>\n",
       "      <td> 05-29-2015</td>\n",
       "    </tr>\n",
       "    <tr>\n",
       "      <th>4076</th>\n",
       "      <td>  External Referral</td>\n",
       "      <td> 5/29/2015</td>\n",
       "      <td> 05-24-2015</td>\n",
       "      <td> 05-17-2015</td>\n",
       "      <td> 05-2015</td>\n",
       "      <td> 05-29-2015</td>\n",
       "    </tr>\n",
       "    <tr>\n",
       "      <th>4077</th>\n",
       "      <td>        VFS Website</td>\n",
       "      <td> 5/29/2015</td>\n",
       "      <td> 05-24-2015</td>\n",
       "      <td> 05-17-2015</td>\n",
       "      <td> 05-2015</td>\n",
       "      <td> 05-29-2015</td>\n",
       "    </tr>\n",
       "    <tr>\n",
       "      <th>4078</th>\n",
       "      <td>               DIGS</td>\n",
       "      <td> 5/29/2015</td>\n",
       "      <td> 05-24-2015</td>\n",
       "      <td> 05-17-2015</td>\n",
       "      <td> 05-2015</td>\n",
       "      <td> 05-29-2015</td>\n",
       "    </tr>\n",
       "    <tr>\n",
       "      <th>4079</th>\n",
       "      <td>  External Referral</td>\n",
       "      <td> 5/29/2015</td>\n",
       "      <td> 05-24-2015</td>\n",
       "      <td> 05-17-2015</td>\n",
       "      <td> 05-2015</td>\n",
       "      <td> 05-29-2015</td>\n",
       "    </tr>\n",
       "    <tr>\n",
       "      <th>4080</th>\n",
       "      <td>        VFS Website</td>\n",
       "      <td> 5/29/2015</td>\n",
       "      <td> 05-24-2015</td>\n",
       "      <td> 05-17-2015</td>\n",
       "      <td> 05-2015</td>\n",
       "      <td> 05-29-2015</td>\n",
       "    </tr>\n",
       "    <tr>\n",
       "      <th>4081</th>\n",
       "      <td>               DIGS</td>\n",
       "      <td> 5/30/2015</td>\n",
       "      <td> 05-31-2015</td>\n",
       "      <td> 05-24-2015</td>\n",
       "      <td> 05-2015</td>\n",
       "      <td> 05-30-2015</td>\n",
       "    </tr>\n",
       "    <tr>\n",
       "      <th>4082</th>\n",
       "      <td>        VFS Website</td>\n",
       "      <td> 5/30/2015</td>\n",
       "      <td> 05-31-2015</td>\n",
       "      <td> 05-24-2015</td>\n",
       "      <td> 05-2015</td>\n",
       "      <td> 05-30-2015</td>\n",
       "    </tr>\n",
       "    <tr>\n",
       "      <th>4083</th>\n",
       "      <td>               DIGS</td>\n",
       "      <td> 5/30/2015</td>\n",
       "      <td> 05-31-2015</td>\n",
       "      <td> 05-24-2015</td>\n",
       "      <td> 05-2015</td>\n",
       "      <td> 05-30-2015</td>\n",
       "    </tr>\n",
       "    <tr>\n",
       "      <th>4084</th>\n",
       "      <td>              Other</td>\n",
       "      <td> 5/30/2015</td>\n",
       "      <td> 05-31-2015</td>\n",
       "      <td> 05-24-2015</td>\n",
       "      <td> 05-2015</td>\n",
       "      <td> 05-30-2015</td>\n",
       "    </tr>\n",
       "    <tr>\n",
       "      <th>4085</th>\n",
       "      <td>              Other</td>\n",
       "      <td>  6/1/2015</td>\n",
       "      <td> 05-31-2015</td>\n",
       "      <td> 05-24-2015</td>\n",
       "      <td> 06-2015</td>\n",
       "      <td> 06-01-2015</td>\n",
       "    </tr>\n",
       "    <tr>\n",
       "      <th>4086</th>\n",
       "      <td>          Google Ad</td>\n",
       "      <td>  6/1/2015</td>\n",
       "      <td> 05-31-2015</td>\n",
       "      <td> 05-24-2015</td>\n",
       "      <td> 06-2015</td>\n",
       "      <td> 06-01-2015</td>\n",
       "    </tr>\n",
       "    <tr>\n",
       "      <th>4087</th>\n",
       "      <td>        VFS Website</td>\n",
       "      <td>  6/1/2015</td>\n",
       "      <td> 05-31-2015</td>\n",
       "      <td> 05-24-2015</td>\n",
       "      <td> 06-2015</td>\n",
       "      <td> 06-01-2015</td>\n",
       "    </tr>\n",
       "    <tr>\n",
       "      <th>4088</th>\n",
       "      <td>               DIGS</td>\n",
       "      <td>  6/1/2015</td>\n",
       "      <td> 05-31-2015</td>\n",
       "      <td> 05-24-2015</td>\n",
       "      <td> 06-2015</td>\n",
       "      <td> 06-01-2015</td>\n",
       "    </tr>\n",
       "  </tbody>\n",
       "</table>\n",
       "<p>4089 rows × 6 columns</p>\n",
       "</div>"
      ],
      "text/plain": [
       "             Lead Source Form Submission Date Sunday date  \\\n",
       "0            VFS Website             9/1/2014  08-31-2014   \n",
       "1     VFS Email Campaign             9/1/2014  08-31-2014   \n",
       "2            VFS Website             9/1/2014  08-31-2014   \n",
       "3            VFS Website             9/1/2014  08-31-2014   \n",
       "4            VFS Website             9/1/2014  08-31-2014   \n",
       "5            VFS Website             9/2/2014  08-31-2014   \n",
       "6                   DIGS             9/2/2014  08-31-2014   \n",
       "7                   DIGS             9/2/2014  08-31-2014   \n",
       "8            VFS Website             9/2/2014  08-31-2014   \n",
       "9            VFS Website             9/2/2014  08-31-2014   \n",
       "10           VFS Website             9/2/2014  08-31-2014   \n",
       "11           VFS Website             9/2/2014  08-31-2014   \n",
       "12           VFS Website             9/3/2014  08-31-2014   \n",
       "13                  DIGS             9/3/2014  08-31-2014   \n",
       "14           VFS Website             9/3/2014  08-31-2014   \n",
       "15           VFS Website             9/3/2014  08-31-2014   \n",
       "16           VFS Website             9/4/2014  08-31-2014   \n",
       "17           VFS Website             9/4/2014  08-31-2014   \n",
       "18           VFS Website             9/4/2014  08-31-2014   \n",
       "19    VFS Email Campaign             9/4/2014  08-31-2014   \n",
       "20           VFS Website             9/4/2014  08-31-2014   \n",
       "21           VFS Website             9/4/2014  08-31-2014   \n",
       "22           VFS Website             9/4/2014  08-31-2014   \n",
       "23           VFS Website             9/5/2014  08-31-2014   \n",
       "24           VFS Website             9/6/2014  09-07-2014   \n",
       "25                  DIGS             9/6/2014  09-07-2014   \n",
       "26    VFS Email Campaign             9/7/2014  09-07-2014   \n",
       "27           VFS Website             9/7/2014  09-07-2014   \n",
       "28                  DIGS             9/7/2014  09-07-2014   \n",
       "29           VFS Website             9/8/2014  09-07-2014   \n",
       "...                  ...                  ...         ...   \n",
       "4059                DIGS            5/27/2015  05-24-2015   \n",
       "4060                DIGS            5/27/2015  05-24-2015   \n",
       "4061                DIGS            5/27/2015  05-24-2015   \n",
       "4062   External Referral            5/27/2015  05-24-2015   \n",
       "4063           Google Ad            5/27/2015  05-24-2015   \n",
       "4064                DIGS            5/27/2015  05-24-2015   \n",
       "4065                DIGS            5/27/2015  05-24-2015   \n",
       "4066         VFS Website            5/28/2015  05-24-2015   \n",
       "4067   External Referral            5/28/2015  05-24-2015   \n",
       "4068                DIGS            5/28/2015  05-24-2015   \n",
       "4069                DIGS            5/28/2015  05-24-2015   \n",
       "4070   External Referral            5/28/2015  05-24-2015   \n",
       "4071                DIGS            5/28/2015  05-24-2015   \n",
       "4072           Google Ad            5/28/2015  05-24-2015   \n",
       "4073         VFS Website            5/28/2015  05-24-2015   \n",
       "4074         VFS Website            5/28/2015  05-24-2015   \n",
       "4075         VFS Website            5/29/2015  05-24-2015   \n",
       "4076   External Referral            5/29/2015  05-24-2015   \n",
       "4077         VFS Website            5/29/2015  05-24-2015   \n",
       "4078                DIGS            5/29/2015  05-24-2015   \n",
       "4079   External Referral            5/29/2015  05-24-2015   \n",
       "4080         VFS Website            5/29/2015  05-24-2015   \n",
       "4081                DIGS            5/30/2015  05-31-2015   \n",
       "4082         VFS Website            5/30/2015  05-31-2015   \n",
       "4083                DIGS            5/30/2015  05-31-2015   \n",
       "4084               Other            5/30/2015  05-31-2015   \n",
       "4085               Other             6/1/2015  05-31-2015   \n",
       "4086           Google Ad             6/1/2015  05-31-2015   \n",
       "4087         VFS Website             6/1/2015  05-31-2015   \n",
       "4088                DIGS             6/1/2015  05-31-2015   \n",
       "\n",
       "     Sunday date of last week    Month        Days  \n",
       "0                  08-24-2014  09-2014  09-01-2014  \n",
       "1                  08-24-2014  09-2014  09-01-2014  \n",
       "2                  08-24-2014  09-2014  09-01-2014  \n",
       "3                  08-24-2014  09-2014  09-01-2014  \n",
       "4                  08-24-2014  09-2014  09-01-2014  \n",
       "5                  08-24-2014  09-2014  09-02-2014  \n",
       "6                  08-24-2014  09-2014  09-02-2014  \n",
       "7                  08-24-2014  09-2014  09-02-2014  \n",
       "8                  08-24-2014  09-2014  09-02-2014  \n",
       "9                  08-24-2014  09-2014  09-02-2014  \n",
       "10                 08-24-2014  09-2014  09-02-2014  \n",
       "11                 08-24-2014  09-2014  09-02-2014  \n",
       "12                 08-24-2014  09-2014  09-03-2014  \n",
       "13                 08-24-2014  09-2014  09-03-2014  \n",
       "14                 08-24-2014  09-2014  09-03-2014  \n",
       "15                 08-24-2014  09-2014  09-03-2014  \n",
       "16                 08-24-2014  09-2014  09-04-2014  \n",
       "17                 08-24-2014  09-2014  09-04-2014  \n",
       "18                 08-24-2014  09-2014  09-04-2014  \n",
       "19                 08-24-2014  09-2014  09-04-2014  \n",
       "20                 08-24-2014  09-2014  09-04-2014  \n",
       "21                 08-24-2014  09-2014  09-04-2014  \n",
       "22                 08-24-2014  09-2014  09-04-2014  \n",
       "23                 08-24-2014  09-2014  09-05-2014  \n",
       "24                 08-31-2014  09-2014  09-06-2014  \n",
       "25                 08-31-2014  09-2014  09-06-2014  \n",
       "26                 08-31-2014  09-2014  09-07-2014  \n",
       "27                 08-31-2014  09-2014  09-07-2014  \n",
       "28                 08-31-2014  09-2014  09-07-2014  \n",
       "29                 08-31-2014  09-2014  09-08-2014  \n",
       "...                       ...      ...         ...  \n",
       "4059               05-17-2015  05-2015  05-27-2015  \n",
       "4060               05-17-2015  05-2015  05-27-2015  \n",
       "4061               05-17-2015  05-2015  05-27-2015  \n",
       "4062               05-17-2015  05-2015  05-27-2015  \n",
       "4063               05-17-2015  05-2015  05-27-2015  \n",
       "4064               05-17-2015  05-2015  05-27-2015  \n",
       "4065               05-17-2015  05-2015  05-27-2015  \n",
       "4066               05-17-2015  05-2015  05-28-2015  \n",
       "4067               05-17-2015  05-2015  05-28-2015  \n",
       "4068               05-17-2015  05-2015  05-28-2015  \n",
       "4069               05-17-2015  05-2015  05-28-2015  \n",
       "4070               05-17-2015  05-2015  05-28-2015  \n",
       "4071               05-17-2015  05-2015  05-28-2015  \n",
       "4072               05-17-2015  05-2015  05-28-2015  \n",
       "4073               05-17-2015  05-2015  05-28-2015  \n",
       "4074               05-17-2015  05-2015  05-28-2015  \n",
       "4075               05-17-2015  05-2015  05-29-2015  \n",
       "4076               05-17-2015  05-2015  05-29-2015  \n",
       "4077               05-17-2015  05-2015  05-29-2015  \n",
       "4078               05-17-2015  05-2015  05-29-2015  \n",
       "4079               05-17-2015  05-2015  05-29-2015  \n",
       "4080               05-17-2015  05-2015  05-29-2015  \n",
       "4081               05-24-2015  05-2015  05-30-2015  \n",
       "4082               05-24-2015  05-2015  05-30-2015  \n",
       "4083               05-24-2015  05-2015  05-30-2015  \n",
       "4084               05-24-2015  05-2015  05-30-2015  \n",
       "4085               05-24-2015  06-2015  06-01-2015  \n",
       "4086               05-24-2015  06-2015  06-01-2015  \n",
       "4087               05-24-2015  06-2015  06-01-2015  \n",
       "4088               05-24-2015  06-2015  06-01-2015  \n",
       "\n",
       "[4089 rows x 6 columns]"
      ]
     },
     "execution_count": 201,
     "metadata": {},
     "output_type": "execute_result"
    }
   ],
   "source": [
    "df_1"
   ]
  },
  {
   "cell_type": "markdown",
   "metadata": {},
   "source": [
    "# Define functions"
   ]
  },
  {
   "cell_type": "code",
   "execution_count": 202,
   "metadata": {
    "collapsed": false
   },
   "outputs": [],
   "source": [
    "def sunday(input):\n",
    "    d = input.toordinal()\n",
    "    last = d - 6\n",
    "    sunday = last - (last % 7 - 7)\n",
    "    return date.fromordinal(sunday)  \n",
    "\n",
    "def sunday_last_week(input):\n",
    "    d = input.toordinal()\n",
    "    last = d - 6\n",
    "    sunday = last - (last % 7)\n",
    "    return date.fromordinal(sunday)\n",
    "\n",
    "\n",
    "def sunday_last_week_false():\n",
    "    d = date.today().toordinal()\n",
    "    last = d - 13\n",
    "    sunday = last - (last % 7)\n",
    "    return date.fromordinal(sunday)\n",
    "\n",
    "def sum_col(col):\n",
    "    S = 0\n",
    "    for n in col:\n",
    "        S = S + n\n",
    "    return S\n",
    "\n",
    "\n",
    "def today1():\n",
    "    today = date.today()\n",
    "    today2 = datetime.date(today)\n",
    "    return today2\n",
    "\n",
    "def last_week():\n",
    "    last_week_data = format(sunday_last_week(date.today()), '%m-%d-%Y')\n",
    "    return last_week_data  \n",
    "\n",
    "\n",
    "def date_format(df):\n",
    "    date_simple = datetime.strptime(df, '%m-%d-%Y')\n",
    "    date2 = datetime.date(date_simple)\n",
    "    return date2\n",
    "    \n",
    "def last_8_weeks(df_week):\n",
    "    today3 = date.today()\n",
    "    df_week[\"days\"] = 0\n",
    "    for i in range(len(df_week[\"Sunday date\"])):\n",
    "        diff = date.today() -  date_format(df_week[\"Sunday date\"][i])\n",
    "        df_week.loc[i, \"days\"] = diff.days\n",
    "    return df_week  \n",
    "\n",
    "\n",
    "def last_6_months(df):\n",
    "    today4 = date.today()\n",
    "    df[\"months_diff\"] = 0\n",
    "    for i in range(len(df[\"Month\"])):\n",
    "        date4 = datetime.strptime(df[\"Month\"][i], '%m-%Y')\n",
    "        date5 = datetime.date(date4)\n",
    "        a = date.today() - date5\n",
    "        df.loc[i, \"months_diff\"] = a.days\n",
    "    return df\n",
    "\n",
    "\n",
    "def first_day_of_month(d):\n",
    "    return date(d.year, d.month, 1)"
   ]
  },
  {
   "cell_type": "markdown",
   "metadata": {},
   "source": [
    "# Add date of Sunday, Last Sunday and Month"
   ]
  },
  {
   "cell_type": "code",
   "execution_count": 63,
   "metadata": {
    "collapsed": false
   },
   "outputs": [
    {
     "name": "stderr",
     "output_type": "stream",
     "text": [
      "C:\\Anaconda\\lib\\site-packages\\IPython\\kernel\\__main__.py:1: SettingWithCopyWarning: \n",
      "A value is trying to be set on a copy of a slice from a DataFrame.\n",
      "Try using .loc[row_indexer,col_indexer] = value instead\n",
      "\n",
      "See the the caveats in the documentation: http://pandas.pydata.org/pandas-docs/stable/indexing.html#indexing-view-versus-copy\n",
      "  if __name__ == '__main__':\n",
      "C:\\Anaconda\\lib\\site-packages\\IPython\\kernel\\__main__.py:5: SettingWithCopyWarning: \n",
      "A value is trying to be set on a copy of a slice from a DataFrame\n",
      "\n",
      "See the the caveats in the documentation: http://pandas.pydata.org/pandas-docs/stable/indexing.html#indexing-view-versus-copy\n"
     ]
    }
   ],
   "source": [
    "df_1[\"Sunday date\"] = '0'\n",
    "for i in range(len(df_1[\"Form Submission Date\"])):\n",
    "    date0 = datetime.strptime(df_1[\"Form Submission Date\"][i], '%m/%d/%Y')\n",
    "    date1 = datetime.date(date0)\n",
    "    df_1.loc[i, \"Sunday date\"] = format(sunday(date1), '%m-%d-%Y') "
   ]
  },
  {
   "cell_type": "code",
   "execution_count": 64,
   "metadata": {
    "collapsed": false
   },
   "outputs": [
    {
     "data": {
      "text/html": [
       "<div style=\"max-height:1000px;max-width:1500px;overflow:auto;\">\n",
       "<table border=\"1\" class=\"dataframe\">\n",
       "  <thead>\n",
       "    <tr style=\"text-align: right;\">\n",
       "      <th></th>\n",
       "      <th>Lead Source</th>\n",
       "      <th>Form Submission Date</th>\n",
       "      <th>Sunday date</th>\n",
       "    </tr>\n",
       "  </thead>\n",
       "  <tbody>\n",
       "    <tr>\n",
       "      <th>0</th>\n",
       "      <td>        VFS Website</td>\n",
       "      <td> 9/1/2014</td>\n",
       "      <td> 08-31-2014</td>\n",
       "    </tr>\n",
       "    <tr>\n",
       "      <th>1</th>\n",
       "      <td> VFS Email Campaign</td>\n",
       "      <td> 9/1/2014</td>\n",
       "      <td> 08-31-2014</td>\n",
       "    </tr>\n",
       "    <tr>\n",
       "      <th>2</th>\n",
       "      <td>        VFS Website</td>\n",
       "      <td> 9/1/2014</td>\n",
       "      <td> 08-31-2014</td>\n",
       "    </tr>\n",
       "  </tbody>\n",
       "</table>\n",
       "</div>"
      ],
      "text/plain": [
       "          Lead Source Form Submission Date Sunday date\n",
       "0         VFS Website             9/1/2014  08-31-2014\n",
       "1  VFS Email Campaign             9/1/2014  08-31-2014\n",
       "2         VFS Website             9/1/2014  08-31-2014"
      ]
     },
     "execution_count": 64,
     "metadata": {},
     "output_type": "execute_result"
    }
   ],
   "source": [
    "df_1[:3]"
   ]
  },
  {
   "cell_type": "code",
   "execution_count": 65,
   "metadata": {
    "collapsed": false
   },
   "outputs": [
    {
     "name": "stderr",
     "output_type": "stream",
     "text": [
      "C:\\Anaconda\\lib\\site-packages\\IPython\\kernel\\__main__.py:1: SettingWithCopyWarning: \n",
      "A value is trying to be set on a copy of a slice from a DataFrame.\n",
      "Try using .loc[row_indexer,col_indexer] = value instead\n",
      "\n",
      "See the the caveats in the documentation: http://pandas.pydata.org/pandas-docs/stable/indexing.html#indexing-view-versus-copy\n",
      "  if __name__ == '__main__':\n",
      "C:\\Anaconda\\lib\\site-packages\\IPython\\kernel\\__main__.py:5: SettingWithCopyWarning: \n",
      "A value is trying to be set on a copy of a slice from a DataFrame\n",
      "\n",
      "See the the caveats in the documentation: http://pandas.pydata.org/pandas-docs/stable/indexing.html#indexing-view-versus-copy\n"
     ]
    }
   ],
   "source": [
    "df_1[\"Sunday date of last week\"] = '0'\n",
    "for i in range(len(df_1[\"Form Submission Date\"])):\n",
    "    date0 = datetime.strptime(df_1[\"Form Submission Date\"][i], '%m/%d/%Y')\n",
    "    date1 = datetime.date(date0)\n",
    "    df_1.loc[i, \"Sunday date of last week\"] = format(sunday_last_week(date1), '%m-%d-%Y') "
   ]
  },
  {
   "cell_type": "code",
   "execution_count": 66,
   "metadata": {
    "collapsed": false
   },
   "outputs": [
    {
     "data": {
      "text/html": [
       "<div style=\"max-height:1000px;max-width:1500px;overflow:auto;\">\n",
       "<table border=\"1\" class=\"dataframe\">\n",
       "  <thead>\n",
       "    <tr style=\"text-align: right;\">\n",
       "      <th></th>\n",
       "      <th>Lead Source</th>\n",
       "      <th>Form Submission Date</th>\n",
       "      <th>Sunday date</th>\n",
       "      <th>Sunday date of last week</th>\n",
       "    </tr>\n",
       "  </thead>\n",
       "  <tbody>\n",
       "    <tr>\n",
       "      <th>0</th>\n",
       "      <td>        VFS Website</td>\n",
       "      <td> 9/1/2014</td>\n",
       "      <td> 08-31-2014</td>\n",
       "      <td> 08-24-2014</td>\n",
       "    </tr>\n",
       "    <tr>\n",
       "      <th>1</th>\n",
       "      <td> VFS Email Campaign</td>\n",
       "      <td> 9/1/2014</td>\n",
       "      <td> 08-31-2014</td>\n",
       "      <td> 08-24-2014</td>\n",
       "    </tr>\n",
       "    <tr>\n",
       "      <th>2</th>\n",
       "      <td>        VFS Website</td>\n",
       "      <td> 9/1/2014</td>\n",
       "      <td> 08-31-2014</td>\n",
       "      <td> 08-24-2014</td>\n",
       "    </tr>\n",
       "  </tbody>\n",
       "</table>\n",
       "</div>"
      ],
      "text/plain": [
       "          Lead Source Form Submission Date Sunday date  \\\n",
       "0         VFS Website             9/1/2014  08-31-2014   \n",
       "1  VFS Email Campaign             9/1/2014  08-31-2014   \n",
       "2         VFS Website             9/1/2014  08-31-2014   \n",
       "\n",
       "  Sunday date of last week  \n",
       "0               08-24-2014  \n",
       "1               08-24-2014  \n",
       "2               08-24-2014  "
      ]
     },
     "execution_count": 66,
     "metadata": {},
     "output_type": "execute_result"
    }
   ],
   "source": [
    "df_1[:3]"
   ]
  },
  {
   "cell_type": "code",
   "execution_count": 67,
   "metadata": {
    "collapsed": false,
    "scrolled": true
   },
   "outputs": [
    {
     "name": "stderr",
     "output_type": "stream",
     "text": [
      "C:\\Anaconda\\lib\\site-packages\\IPython\\kernel\\__main__.py:1: SettingWithCopyWarning: \n",
      "A value is trying to be set on a copy of a slice from a DataFrame.\n",
      "Try using .loc[row_indexer,col_indexer] = value instead\n",
      "\n",
      "See the the caveats in the documentation: http://pandas.pydata.org/pandas-docs/stable/indexing.html#indexing-view-versus-copy\n",
      "  if __name__ == '__main__':\n",
      "C:\\Anaconda\\lib\\site-packages\\IPython\\kernel\\__main__.py:5: SettingWithCopyWarning: \n",
      "A value is trying to be set on a copy of a slice from a DataFrame\n",
      "\n",
      "See the the caveats in the documentation: http://pandas.pydata.org/pandas-docs/stable/indexing.html#indexing-view-versus-copy\n"
     ]
    }
   ],
   "source": [
    "df_1[\"Month\"] = df_1[\"Form Submission Date\"]\n",
    "for i in range(len(df_1[\"Month\"])):\n",
    "    date0 = datetime.strptime(df_1[\"Month\"][i], '%m/%d/%Y')\n",
    "    date1 = datetime.date(date0)\n",
    "    df_1.loc[i, \"Month\"] = format(date1, '%m-%Y')   \n",
    "    "
   ]
  },
  {
   "cell_type": "code",
   "execution_count": 68,
   "metadata": {
    "collapsed": false
   },
   "outputs": [
    {
     "name": "stderr",
     "output_type": "stream",
     "text": [
      "C:\\Anaconda\\lib\\site-packages\\IPython\\kernel\\__main__.py:1: SettingWithCopyWarning: \n",
      "A value is trying to be set on a copy of a slice from a DataFrame.\n",
      "Try using .loc[row_indexer,col_indexer] = value instead\n",
      "\n",
      "See the the caveats in the documentation: http://pandas.pydata.org/pandas-docs/stable/indexing.html#indexing-view-versus-copy\n",
      "  if __name__ == '__main__':\n",
      "C:\\Anaconda\\lib\\site-packages\\IPython\\kernel\\__main__.py:5: SettingWithCopyWarning: \n",
      "A value is trying to be set on a copy of a slice from a DataFrame\n",
      "\n",
      "See the the caveats in the documentation: http://pandas.pydata.org/pandas-docs/stable/indexing.html#indexing-view-versus-copy\n"
     ]
    }
   ],
   "source": [
    "df_1[\"Days\"]=df_1[\"Form Submission Date\"]\n",
    "for i in range(len(df_1[\"Month\"])):\n",
    "    date0 = datetime.strptime(df_1[\"Days\"][i], '%m/%d/%Y')\n",
    "    date1 = datetime.date(date0)\n",
    "    df_1.loc[i, \"Days\"] = format(date1, '%m-%d-%Y')"
   ]
  },
  {
   "cell_type": "code",
   "execution_count": 69,
   "metadata": {
    "collapsed": false
   },
   "outputs": [
    {
     "data": {
      "text/html": [
       "<div style=\"max-height:1000px;max-width:1500px;overflow:auto;\">\n",
       "<table border=\"1\" class=\"dataframe\">\n",
       "  <thead>\n",
       "    <tr style=\"text-align: right;\">\n",
       "      <th></th>\n",
       "      <th>Lead Source</th>\n",
       "      <th>Form Submission Date</th>\n",
       "      <th>Sunday date</th>\n",
       "      <th>Sunday date of last week</th>\n",
       "      <th>Month</th>\n",
       "      <th>Days</th>\n",
       "    </tr>\n",
       "  </thead>\n",
       "  <tbody>\n",
       "    <tr>\n",
       "      <th>0</th>\n",
       "      <td>        VFS Website</td>\n",
       "      <td> 9/1/2014</td>\n",
       "      <td> 08-31-2014</td>\n",
       "      <td> 08-24-2014</td>\n",
       "      <td> 09-2014</td>\n",
       "      <td> 09-01-2014</td>\n",
       "    </tr>\n",
       "    <tr>\n",
       "      <th>1</th>\n",
       "      <td> VFS Email Campaign</td>\n",
       "      <td> 9/1/2014</td>\n",
       "      <td> 08-31-2014</td>\n",
       "      <td> 08-24-2014</td>\n",
       "      <td> 09-2014</td>\n",
       "      <td> 09-01-2014</td>\n",
       "    </tr>\n",
       "    <tr>\n",
       "      <th>2</th>\n",
       "      <td>        VFS Website</td>\n",
       "      <td> 9/1/2014</td>\n",
       "      <td> 08-31-2014</td>\n",
       "      <td> 08-24-2014</td>\n",
       "      <td> 09-2014</td>\n",
       "      <td> 09-01-2014</td>\n",
       "    </tr>\n",
       "  </tbody>\n",
       "</table>\n",
       "</div>"
      ],
      "text/plain": [
       "          Lead Source Form Submission Date Sunday date  \\\n",
       "0         VFS Website             9/1/2014  08-31-2014   \n",
       "1  VFS Email Campaign             9/1/2014  08-31-2014   \n",
       "2         VFS Website             9/1/2014  08-31-2014   \n",
       "\n",
       "  Sunday date of last week    Month        Days  \n",
       "0               08-24-2014  09-2014  09-01-2014  \n",
       "1               08-24-2014  09-2014  09-01-2014  \n",
       "2               08-24-2014  09-2014  09-01-2014  "
      ]
     },
     "execution_count": 69,
     "metadata": {},
     "output_type": "execute_result"
    }
   ],
   "source": [
    "df_1[:3]"
   ]
  },
  {
   "cell_type": "markdown",
   "metadata": {},
   "source": [
    "# Create table for last 6 month"
   ]
  },
  {
   "cell_type": "code",
   "execution_count": 70,
   "metadata": {
    "collapsed": false
   },
   "outputs": [
    {
     "data": {
      "text/html": [
       "<div style=\"max-height:1000px;max-width:1500px;overflow:auto;\">\n",
       "<table border=\"1\" class=\"dataframe\">\n",
       "  <thead>\n",
       "    <tr style=\"text-align: right;\">\n",
       "      <th></th>\n",
       "      <th>Lead Source</th>\n",
       "      <th>Month</th>\n",
       "    </tr>\n",
       "  </thead>\n",
       "  <tbody>\n",
       "    <tr>\n",
       "      <th>0</th>\n",
       "      <td>        VFS Website</td>\n",
       "      <td> 09-2014</td>\n",
       "    </tr>\n",
       "    <tr>\n",
       "      <th>1</th>\n",
       "      <td> VFS Email Campaign</td>\n",
       "      <td> 09-2014</td>\n",
       "    </tr>\n",
       "    <tr>\n",
       "      <th>2</th>\n",
       "      <td>        VFS Website</td>\n",
       "      <td> 09-2014</td>\n",
       "    </tr>\n",
       "  </tbody>\n",
       "</table>\n",
       "</div>"
      ],
      "text/plain": [
       "          Lead Source    Month\n",
       "0         VFS Website  09-2014\n",
       "1  VFS Email Campaign  09-2014\n",
       "2         VFS Website  09-2014"
      ]
     },
     "execution_count": 70,
     "metadata": {},
     "output_type": "execute_result"
    }
   ],
   "source": [
    "df_7 = df_1[[\"Lead Source\", \"Month\"]]\n",
    "df_7[:3]"
   ]
  },
  {
   "cell_type": "code",
   "execution_count": 71,
   "metadata": {
    "collapsed": false
   },
   "outputs": [
    {
     "name": "stderr",
     "output_type": "stream",
     "text": [
      "C:\\Anaconda\\lib\\site-packages\\IPython\\kernel\\__main__.py:53: SettingWithCopyWarning: \n",
      "A value is trying to be set on a copy of a slice from a DataFrame.\n",
      "Try using .loc[row_indexer,col_indexer] = value instead\n",
      "\n",
      "See the the caveats in the documentation: http://pandas.pydata.org/pandas-docs/stable/indexing.html#indexing-view-versus-copy\n"
     ]
    }
   ],
   "source": [
    "df_last_6_month = last_6_months(df_7)"
   ]
  },
  {
   "cell_type": "code",
   "execution_count": 72,
   "metadata": {
    "collapsed": false,
    "scrolled": false
   },
   "outputs": [
    {
     "data": {
      "text/html": [
       "<div style=\"max-height:1000px;max-width:1500px;overflow:auto;\">\n",
       "<table border=\"1\" class=\"dataframe\">\n",
       "  <thead>\n",
       "    <tr style=\"text-align: right;\">\n",
       "      <th></th>\n",
       "      <th>Lead Source</th>\n",
       "      <th>Month</th>\n",
       "      <th>months_diff</th>\n",
       "    </tr>\n",
       "  </thead>\n",
       "  <tbody>\n",
       "    <tr>\n",
       "      <th>0</th>\n",
       "      <td> VFS Website</td>\n",
       "      <td> 01-2015</td>\n",
       "      <td> 160</td>\n",
       "    </tr>\n",
       "    <tr>\n",
       "      <th>1</th>\n",
       "      <td> VFS Website</td>\n",
       "      <td> 01-2015</td>\n",
       "      <td> 160</td>\n",
       "    </tr>\n",
       "    <tr>\n",
       "      <th>2</th>\n",
       "      <td> VFS Website</td>\n",
       "      <td> 01-2015</td>\n",
       "      <td> 160</td>\n",
       "    </tr>\n",
       "  </tbody>\n",
       "</table>\n",
       "</div>"
      ],
      "text/plain": [
       "   Lead Source    Month  months_diff\n",
       "0  VFS Website  01-2015          160\n",
       "1  VFS Website  01-2015          160\n",
       "2  VFS Website  01-2015          160"
      ]
     },
     "execution_count": 72,
     "metadata": {},
     "output_type": "execute_result"
    }
   ],
   "source": [
    "df_last_6_month = df_last_6_month[df_last_6_month[\"months_diff\"] < 183]\n",
    "df_last_6_month = df_last_6_month[df_last_6_month[\"months_diff\"] > 0]\n",
    "df_last_6_month.index = range(len(df_last_6_month.months_diff))\n",
    "df_last_6_month[:3]"
   ]
  },
  {
   "cell_type": "code",
   "execution_count": 73,
   "metadata": {
    "collapsed": false
   },
   "outputs": [
    {
     "name": "stderr",
     "output_type": "stream",
     "text": [
      "C:\\Anaconda\\lib\\site-packages\\IPython\\kernel\\__main__.py:2: SettingWithCopyWarning: \n",
      "A value is trying to be set on a copy of a slice from a DataFrame.\n",
      "Try using .loc[row_indexer,col_indexer] = value instead\n",
      "\n",
      "See the the caveats in the documentation: http://pandas.pydata.org/pandas-docs/stable/indexing.html#indexing-view-versus-copy\n",
      "  from IPython.kernel.zmq import kernelapp as app\n"
     ]
    },
    {
     "data": {
      "text/html": [
       "<div style=\"max-height:1000px;max-width:1500px;overflow:auto;\">\n",
       "<table border=\"1\" class=\"dataframe\">\n",
       "  <thead>\n",
       "    <tr style=\"text-align: right;\">\n",
       "      <th></th>\n",
       "      <th>Lead Source</th>\n",
       "      <th>Month</th>\n",
       "      <th>Count</th>\n",
       "      <th>Schare</th>\n",
       "    </tr>\n",
       "  </thead>\n",
       "  <tbody>\n",
       "    <tr>\n",
       "      <th>0</th>\n",
       "      <td> Auction.com</td>\n",
       "      <td> 04-2015</td>\n",
       "      <td>   1</td>\n",
       "      <td> 0.000335</td>\n",
       "    </tr>\n",
       "    <tr>\n",
       "      <th>1</th>\n",
       "      <td> Auction.com</td>\n",
       "      <td> 05-2015</td>\n",
       "      <td>   1</td>\n",
       "      <td> 0.000335</td>\n",
       "    </tr>\n",
       "    <tr>\n",
       "      <th>2</th>\n",
       "      <td>        DIGS</td>\n",
       "      <td> 01-2015</td>\n",
       "      <td> 197</td>\n",
       "      <td> 0.065930</td>\n",
       "    </tr>\n",
       "  </tbody>\n",
       "</table>\n",
       "</div>"
      ],
      "text/plain": [
       "   Lead Source    Month  Count    Schare\n",
       "0  Auction.com  04-2015      1  0.000335\n",
       "1  Auction.com  05-2015      1  0.000335\n",
       "2         DIGS  01-2015    197  0.065930"
      ]
     },
     "execution_count": 73,
     "metadata": {},
     "output_type": "execute_result"
    }
   ],
   "source": [
    "df_10 = df_last_6_month[[\"Lead Source\", \"Month\"]]\n",
    "df_10[\"Count\"] = 1\n",
    "df_10 = df_10.groupby([\"Lead Source\", \"Month\"], as_index=False)\n",
    "df_10 = df_10.aggregate(sum)\n",
    "df_10[\"Schare\"] = 0\n",
    "for i in range(len(df_10[\"Count\"])):\n",
    "    df_10.loc[i, \"Schare\"] = float(df_10[\"Count\"][i])/float(sum_col(df_10[\"Count\"]))\n",
    "    \n",
    "df_month_6 = df_10\n",
    "df_month_6[:3]"
   ]
  },
  {
   "cell_type": "code",
   "execution_count": 74,
   "metadata": {
    "collapsed": false
   },
   "outputs": [
    {
     "data": {
      "text/html": [
       "<div style=\"max-height:1000px;max-width:1500px;overflow:auto;\">\n",
       "<table border=\"1\" class=\"dataframe\">\n",
       "  <thead>\n",
       "    <tr style=\"text-align: right;\">\n",
       "      <th></th>\n",
       "      <th>Lead Source</th>\n",
       "      <th>Month</th>\n",
       "      <th>Count</th>\n",
       "      <th>Schare</th>\n",
       "    </tr>\n",
       "  </thead>\n",
       "  <tbody>\n",
       "    <tr>\n",
       "      <th>0</th>\n",
       "      <td> Auction.com</td>\n",
       "      <td> 04-2015</td>\n",
       "      <td>   1</td>\n",
       "      <td> 0.000335</td>\n",
       "    </tr>\n",
       "    <tr>\n",
       "      <th>1</th>\n",
       "      <td> Auction.com</td>\n",
       "      <td> 05-2015</td>\n",
       "      <td>   1</td>\n",
       "      <td> 0.000335</td>\n",
       "    </tr>\n",
       "    <tr>\n",
       "      <th>2</th>\n",
       "      <td>        DIGS</td>\n",
       "      <td> 01-2015</td>\n",
       "      <td> 197</td>\n",
       "      <td> 0.065930</td>\n",
       "    </tr>\n",
       "  </tbody>\n",
       "</table>\n",
       "</div>"
      ],
      "text/plain": [
       "   Lead Source    Month  Count    Schare\n",
       "0  Auction.com  04-2015      1  0.000335\n",
       "1  Auction.com  05-2015      1  0.000335\n",
       "2         DIGS  01-2015    197  0.065930"
      ]
     },
     "execution_count": 74,
     "metadata": {},
     "output_type": "execute_result"
    }
   ],
   "source": [
    "df_month_6[:3]"
   ]
  },
  {
   "cell_type": "code",
   "execution_count": 75,
   "metadata": {
    "collapsed": false
   },
   "outputs": [
    {
     "data": {
      "text/plain": [
       "time.struct_time(tm_year=2015, tm_mon=1, tm_mday=1, tm_hour=0, tm_min=0, tm_sec=0, tm_wday=3, tm_yday=1, tm_isdst=-1)"
      ]
     },
     "execution_count": 75,
     "metadata": {},
     "output_type": "execute_result"
    }
   ],
   "source": [
    "datetime.strptime(df_month_6['Month'][20], \"%m-%Y\").timetuple()"
   ]
  },
  {
   "cell_type": "code",
   "execution_count": 76,
   "metadata": {
    "collapsed": true
   },
   "outputs": [],
   "source": [
    "import time"
   ]
  },
  {
   "cell_type": "code",
   "execution_count": 77,
   "metadata": {
    "collapsed": false
   },
   "outputs": [
    {
     "data": {
      "text/plain": [
       "1422741600000L"
      ]
     },
     "execution_count": 77,
     "metadata": {},
     "output_type": "execute_result"
    }
   ],
   "source": [
    "int(time.mktime(datetime.strptime(df_month_6['Month'][i], \"%m-%Y\").timetuple())*1000)"
   ]
  },
  {
   "cell_type": "code",
   "execution_count": 78,
   "metadata": {
    "collapsed": false
   },
   "outputs": [],
   "source": [
    "df_month_6[\"values\"] = 1429390800000\n",
    "for i in range(len(df_month_6[\"Month\"])):\n",
    "    df_month_6.loc[i, \"values\"] = int(time.mktime(datetime.strptime(df_month_6['Month'][i], \"%m-%Y\").timetuple())*1000)"
   ]
  },
  {
   "cell_type": "code",
   "execution_count": 79,
   "metadata": {
    "collapsed": false
   },
   "outputs": [
    {
     "data": {
      "text/html": [
       "<div style=\"max-height:1000px;max-width:1500px;overflow:auto;\">\n",
       "<table border=\"1\" class=\"dataframe\">\n",
       "  <thead>\n",
       "    <tr style=\"text-align: right;\">\n",
       "      <th></th>\n",
       "      <th>Lead Source</th>\n",
       "      <th>Month</th>\n",
       "      <th>Count</th>\n",
       "      <th>Schare</th>\n",
       "      <th>values</th>\n",
       "    </tr>\n",
       "  </thead>\n",
       "  <tbody>\n",
       "    <tr>\n",
       "      <th>0</th>\n",
       "      <td> Auction.com</td>\n",
       "      <td> 04-2015</td>\n",
       "      <td>   1</td>\n",
       "      <td> 0.000335</td>\n",
       "      <td> 1427835600000</td>\n",
       "    </tr>\n",
       "    <tr>\n",
       "      <th>1</th>\n",
       "      <td> Auction.com</td>\n",
       "      <td> 05-2015</td>\n",
       "      <td>   1</td>\n",
       "      <td> 0.000335</td>\n",
       "      <td> 1430427600000</td>\n",
       "    </tr>\n",
       "    <tr>\n",
       "      <th>2</th>\n",
       "      <td>        DIGS</td>\n",
       "      <td> 01-2015</td>\n",
       "      <td> 197</td>\n",
       "      <td> 0.065930</td>\n",
       "      <td> 1420063200000</td>\n",
       "    </tr>\n",
       "  </tbody>\n",
       "</table>\n",
       "</div>"
      ],
      "text/plain": [
       "   Lead Source    Month  Count    Schare         values\n",
       "0  Auction.com  04-2015      1  0.000335  1427835600000\n",
       "1  Auction.com  05-2015      1  0.000335  1430427600000\n",
       "2         DIGS  01-2015    197  0.065930  1420063200000"
      ]
     },
     "execution_count": 79,
     "metadata": {},
     "output_type": "execute_result"
    }
   ],
   "source": [
    "df_month_6[:3]"
   ]
  },
  {
   "cell_type": "code",
   "execution_count": 80,
   "metadata": {
    "collapsed": false
   },
   "outputs": [
    {
     "data": {
      "text/html": [
       "<div style=\"max-height:1000px;max-width:1500px;overflow:auto;\">\n",
       "<table border=\"1\" class=\"dataframe\">\n",
       "  <thead>\n",
       "    <tr style=\"text-align: right;\">\n",
       "      <th></th>\n",
       "      <th>symbol</th>\n",
       "      <th>date</th>\n",
       "      <th>count</th>\n",
       "    </tr>\n",
       "  </thead>\n",
       "  <tbody>\n",
       "    <tr>\n",
       "      <th>0</th>\n",
       "      <td> Auction.com</td>\n",
       "      <td> 1427835600000</td>\n",
       "      <td>   1</td>\n",
       "    </tr>\n",
       "    <tr>\n",
       "      <th>1</th>\n",
       "      <td> Auction.com</td>\n",
       "      <td> 1430427600000</td>\n",
       "      <td>   1</td>\n",
       "    </tr>\n",
       "    <tr>\n",
       "      <th>2</th>\n",
       "      <td>        DIGS</td>\n",
       "      <td> 1420063200000</td>\n",
       "      <td> 197</td>\n",
       "    </tr>\n",
       "  </tbody>\n",
       "</table>\n",
       "</div>"
      ],
      "text/plain": [
       "        symbol           date  count\n",
       "0  Auction.com  1427835600000      1\n",
       "1  Auction.com  1430427600000      1\n",
       "2         DIGS  1420063200000    197"
      ]
     },
     "execution_count": 80,
     "metadata": {},
     "output_type": "execute_result"
    }
   ],
   "source": [
    "df_month_6 = df_month_6[['Lead Source', 'values', 'Count']]\n",
    "df_month_6.columns = ['symbol', 'date', 'count']\n",
    "df_month_6[:3]"
   ]
  },
  {
   "cell_type": "code",
   "execution_count": 81,
   "metadata": {
    "collapsed": true
   },
   "outputs": [],
   "source": [
    "date0 = df_month_6['date']"
   ]
  },
  {
   "cell_type": "code",
   "execution_count": 82,
   "metadata": {
    "collapsed": false
   },
   "outputs": [],
   "source": [
    "date2 = list(set(date0))"
   ]
  },
  {
   "cell_type": "code",
   "execution_count": 83,
   "metadata": {
    "collapsed": false
   },
   "outputs": [
    {
     "data": {
      "text/plain": [
       "[1425160800000,\n",
       " 1420063200000,\n",
       " 1422741600000,\n",
       " 1427835600000,\n",
       " 1430427600000,\n",
       " 1433106000000]"
      ]
     },
     "execution_count": 83,
     "metadata": {},
     "output_type": "execute_result"
    }
   ],
   "source": [
    "date2"
   ]
  },
  {
   "cell_type": "code",
   "execution_count": 84,
   "metadata": {
    "collapsed": true
   },
   "outputs": [],
   "source": [
    "symbol = df_month_6['symbol']"
   ]
  },
  {
   "cell_type": "code",
   "execution_count": 85,
   "metadata": {
    "collapsed": false
   },
   "outputs": [],
   "source": [
    "symbol2 = list(set(symbol))"
   ]
  },
  {
   "cell_type": "code",
   "execution_count": 86,
   "metadata": {
    "collapsed": false
   },
   "outputs": [
    {
     "data": {
      "text/plain": [
       "['Pre-Sales Call', 'Outbound', 'LinkedIn']"
      ]
     },
     "execution_count": 86,
     "metadata": {},
     "output_type": "execute_result"
    }
   ],
   "source": [
    "symbol2[:3]"
   ]
  },
  {
   "cell_type": "code",
   "execution_count": 87,
   "metadata": {
    "collapsed": true
   },
   "outputs": [],
   "source": [
    "date3 = []\n",
    "for i in range(len(symbol2)):\n",
    "    for j in range(len(date2)):\n",
    "        date3.append(date2[j])"
   ]
  },
  {
   "cell_type": "code",
   "execution_count": 88,
   "metadata": {
    "collapsed": false
   },
   "outputs": [],
   "source": [
    "symbol3 = []\n",
    "for i in range(len(symbol2)):\n",
    "    for j in range(6): \n",
    "        symbol3.append(symbol2[i])"
   ]
  },
  {
   "cell_type": "code",
   "execution_count": 89,
   "metadata": {
    "collapsed": false
   },
   "outputs": [
    {
     "data": {
      "text/plain": [
       "24"
      ]
     },
     "execution_count": 89,
     "metadata": {},
     "output_type": "execute_result"
    }
   ],
   "source": [
    "len(symbol2)"
   ]
  },
  {
   "cell_type": "code",
   "execution_count": 90,
   "metadata": {
    "collapsed": false
   },
   "outputs": [
    {
     "data": {
      "text/plain": [
       "6"
      ]
     },
     "execution_count": 90,
     "metadata": {},
     "output_type": "execute_result"
    }
   ],
   "source": [
    "len(date2)"
   ]
  },
  {
   "cell_type": "code",
   "execution_count": 91,
   "metadata": {
    "collapsed": false
   },
   "outputs": [
    {
     "data": {
      "text/plain": [
       "[1425160800000,\n",
       " 1420063200000,\n",
       " 1422741600000,\n",
       " 1427835600000,\n",
       " 1430427600000,\n",
       " 1433106000000]"
      ]
     },
     "execution_count": 91,
     "metadata": {},
     "output_type": "execute_result"
    }
   ],
   "source": [
    "date2"
   ]
  },
  {
   "cell_type": "code",
   "execution_count": null,
   "metadata": {
    "collapsed": true
   },
   "outputs": [],
   "source": []
  },
  {
   "cell_type": "code",
   "execution_count": 92,
   "metadata": {
    "collapsed": true
   },
   "outputs": [],
   "source": [
    "new_lists= pd.DataFrame(columns=['symbol', 'date', 'count'])"
   ]
  },
  {
   "cell_type": "code",
   "execution_count": 93,
   "metadata": {
    "collapsed": false
   },
   "outputs": [],
   "source": [
    "new_lists['symbol']=symbol3\n",
    "new_lists['date']=date3\n",
    "new_lists['count']=0"
   ]
  },
  {
   "cell_type": "code",
   "execution_count": 94,
   "metadata": {
    "collapsed": false
   },
   "outputs": [],
   "source": [
    "df6 = pd.concat([df_month_6, new_lists])"
   ]
  },
  {
   "cell_type": "code",
   "execution_count": 95,
   "metadata": {
    "collapsed": false
   },
   "outputs": [
    {
     "name": "stderr",
     "output_type": "stream",
     "text": [
      "C:\\Anaconda\\lib\\site-packages\\pandas\\util\\decorators.py:81: FutureWarning: the 'cols' keyword is deprecated, use 'subset' instead\n",
      "  warnings.warn(msg, FutureWarning)\n"
     ]
    }
   ],
   "source": [
    "df66 = df6.drop_duplicates(cols=['symbol', 'date'], take_last=False)"
   ]
  },
  {
   "cell_type": "code",
   "execution_count": 96,
   "metadata": {
    "collapsed": false
   },
   "outputs": [],
   "source": [
    "df_month_6 = df66.sort(['symbol', 'date'])\n",
    "df_month_6.index = range(len(df_month_6))"
   ]
  },
  {
   "cell_type": "code",
   "execution_count": 97,
   "metadata": {
    "collapsed": false
   },
   "outputs": [
    {
     "data": {
      "text/html": [
       "<div style=\"max-height:1000px;max-width:1500px;overflow:auto;\">\n",
       "<table border=\"1\" class=\"dataframe\">\n",
       "  <thead>\n",
       "    <tr style=\"text-align: right;\">\n",
       "      <th></th>\n",
       "      <th>symbol</th>\n",
       "      <th>date</th>\n",
       "      <th>count</th>\n",
       "    </tr>\n",
       "  </thead>\n",
       "  <tbody>\n",
       "    <tr>\n",
       "      <th>0</th>\n",
       "      <td> Auction.com</td>\n",
       "      <td> 1420063200000</td>\n",
       "      <td> 0</td>\n",
       "    </tr>\n",
       "    <tr>\n",
       "      <th>1</th>\n",
       "      <td> Auction.com</td>\n",
       "      <td> 1422741600000</td>\n",
       "      <td> 0</td>\n",
       "    </tr>\n",
       "    <tr>\n",
       "      <th>2</th>\n",
       "      <td> Auction.com</td>\n",
       "      <td> 1425160800000</td>\n",
       "      <td> 0</td>\n",
       "    </tr>\n",
       "  </tbody>\n",
       "</table>\n",
       "</div>"
      ],
      "text/plain": [
       "        symbol           date  count\n",
       "0  Auction.com  1420063200000      0\n",
       "1  Auction.com  1422741600000      0\n",
       "2  Auction.com  1425160800000      0"
      ]
     },
     "execution_count": 97,
     "metadata": {},
     "output_type": "execute_result"
    }
   ],
   "source": [
    "df_month_6[:3]"
   ]
  },
  {
   "cell_type": "code",
   "execution_count": 98,
   "metadata": {
    "collapsed": false
   },
   "outputs": [],
   "source": [
    "df_mean = df_month_6.groupby(['symbol']).sum()/6\n",
    "mean1 = df_mean['count']"
   ]
  },
  {
   "cell_type": "code",
   "execution_count": 99,
   "metadata": {
    "collapsed": false
   },
   "outputs": [
    {
     "data": {
      "text/plain": [
       "197.83333333333334"
      ]
     },
     "execution_count": 99,
     "metadata": {},
     "output_type": "execute_result"
    }
   ],
   "source": [
    "mean1['DIGS']"
   ]
  },
  {
   "cell_type": "code",
   "execution_count": 102,
   "metadata": {
    "collapsed": false
   },
   "outputs": [],
   "source": [
    "df_mean['boolean'] = 'true'"
   ]
  },
  {
   "cell_type": "code",
   "execution_count": 129,
   "metadata": {
    "collapsed": true
   },
   "outputs": [],
   "source": [
    "df_mean1 = df_mean"
   ]
  },
  {
   "cell_type": "code",
   "execution_count": 130,
   "metadata": {
    "collapsed": true
   },
   "outputs": [],
   "source": [
    "df_mean1 = df_mean1.sort(['count'])"
   ]
  },
  {
   "cell_type": "code",
   "execution_count": 131,
   "metadata": {
    "collapsed": false
   },
   "outputs": [
    {
     "name": "stderr",
     "output_type": "stream",
     "text": [
      "C:\\Anaconda\\lib\\site-packages\\IPython\\kernel\\__main__.py:2: SettingWithCopyWarning: \n",
      "A value is trying to be set on a copy of a slice from a DataFrame\n",
      "\n",
      "See the the caveats in the documentation: http://pandas.pydata.org/pandas-docs/stable/indexing.html#indexing-view-versus-copy\n",
      "  from IPython.kernel.zmq import kernelapp as app\n"
     ]
    }
   ],
   "source": [
    "for i in range(len(df_mean1['count'])-5, len(df_mean1['count'])):\n",
    "    df_mean1['boolean'][i] = 'false'"
   ]
  },
  {
   "cell_type": "code",
   "execution_count": 135,
   "metadata": {
    "collapsed": false
   },
   "outputs": [],
   "source": [
    "df_mean1 = df_mean1.sort()"
   ]
  },
  {
   "cell_type": "code",
   "execution_count": 148,
   "metadata": {
    "collapsed": true
   },
   "outputs": [],
   "source": [
    "disabled = df_mean1['boolean']"
   ]
  },
  {
   "cell_type": "code",
   "execution_count": 139,
   "metadata": {
    "collapsed": true
   },
   "outputs": [],
   "source": [
    "list0 = []\n",
    "a = df_month_6[\"date\"].values\n",
    "b = df_month_6[\"count\"].values\n",
    "for i in range(len(df_month_6[\"count\"])):   \n",
    "        list0.append([a[i], b[i]])"
   ]
  },
  {
   "cell_type": "code",
   "execution_count": 140,
   "metadata": {
    "collapsed": true
   },
   "outputs": [],
   "source": [
    "list2 = []\n",
    "for i in range(len(df_month_6[\"count\"])):\n",
    "    list2.append([df_month_6[\"symbol\"][i], list0[i]])"
   ]
  },
  {
   "cell_type": "code",
   "execution_count": 141,
   "metadata": {
    "collapsed": true
   },
   "outputs": [],
   "source": [
    "import sys\n",
    "from contextlib import contextmanager\n",
    "@contextmanager\n",
    "def stdout_redirected(new_stdout):\n",
    "    save_stdout = sys.stdout\n",
    "    sys.stdout = new_stdout\n",
    "    try:\n",
    "        yield None\n",
    "    finally:\n",
    "        sys.stdout = save_stdout"
   ]
  },
  {
   "cell_type": "code",
   "execution_count": 157,
   "metadata": {
    "collapsed": false
   },
   "outputs": [],
   "source": [
    "j = []\n",
    "with open('m6.json', \"w\") as f:\n",
    "    with stdout_redirected(f):\n",
    "        for  key1, group in groupby(list2, lambda x: x[0]):\n",
    "                print '}, { \"key\":' + \"\\\"\" + key1 + \"\\\"\" + ',' + '\\\"mean\\\":' + str(mean1[key1]) + ',' + '\\\"disabled\\\":' + disabled[key1] + ',' + '\\\"values\\\":',  [thing[1] for thing in group]"
   ]
  },
  {
   "cell_type": "code",
   "execution_count": 158,
   "metadata": {
    "collapsed": true
   },
   "outputs": [],
   "source": [
    "json_data=open('m6.json').read()\n",
    "data = '[' + json_data[2:len(json_data)] + \"}]\""
   ]
  },
  {
   "cell_type": "code",
   "execution_count": 159,
   "metadata": {
    "collapsed": true
   },
   "outputs": [],
   "source": [
    "with open('last_6_months.json', \"w\") as f:\n",
    "    with stdout_redirected(f):\n",
    "         print data"
   ]
  },
  {
   "cell_type": "markdown",
   "metadata": {},
   "source": [
    "# Create table for last week"
   ]
  },
  {
   "cell_type": "code",
   "execution_count": 262,
   "metadata": {
    "collapsed": true
   },
   "outputs": [],
   "source": [
    "df_4 = df_1[[\"Lead Source\", \"Sunday date of last week\", \"Days\"]]"
   ]
  },
  {
   "cell_type": "code",
   "execution_count": 263,
   "metadata": {
    "collapsed": false
   },
   "outputs": [
    {
     "data": {
      "text/html": [
       "<div style=\"max-height:1000px;max-width:1500px;overflow:auto;\">\n",
       "<table border=\"1\" class=\"dataframe\">\n",
       "  <thead>\n",
       "    <tr style=\"text-align: right;\">\n",
       "      <th></th>\n",
       "      <th>Lead Source</th>\n",
       "      <th>Sunday date of last week</th>\n",
       "      <th>Days</th>\n",
       "    </tr>\n",
       "  </thead>\n",
       "  <tbody>\n",
       "    <tr>\n",
       "      <th>0</th>\n",
       "      <td>        VFS Website</td>\n",
       "      <td> 08-24-2014</td>\n",
       "      <td> 09-01-2014</td>\n",
       "    </tr>\n",
       "    <tr>\n",
       "      <th>1</th>\n",
       "      <td> VFS Email Campaign</td>\n",
       "      <td> 08-24-2014</td>\n",
       "      <td> 09-01-2014</td>\n",
       "    </tr>\n",
       "    <tr>\n",
       "      <th>2</th>\n",
       "      <td>        VFS Website</td>\n",
       "      <td> 08-24-2014</td>\n",
       "      <td> 09-01-2014</td>\n",
       "    </tr>\n",
       "    <tr>\n",
       "      <th>3</th>\n",
       "      <td>        VFS Website</td>\n",
       "      <td> 08-24-2014</td>\n",
       "      <td> 09-01-2014</td>\n",
       "    </tr>\n",
       "    <tr>\n",
       "      <th>4</th>\n",
       "      <td>        VFS Website</td>\n",
       "      <td> 08-24-2014</td>\n",
       "      <td> 09-01-2014</td>\n",
       "    </tr>\n",
       "    <tr>\n",
       "      <th>5</th>\n",
       "      <td>        VFS Website</td>\n",
       "      <td> 08-24-2014</td>\n",
       "      <td> 09-02-2014</td>\n",
       "    </tr>\n",
       "    <tr>\n",
       "      <th>6</th>\n",
       "      <td>               DIGS</td>\n",
       "      <td> 08-24-2014</td>\n",
       "      <td> 09-02-2014</td>\n",
       "    </tr>\n",
       "    <tr>\n",
       "      <th>7</th>\n",
       "      <td>               DIGS</td>\n",
       "      <td> 08-24-2014</td>\n",
       "      <td> 09-02-2014</td>\n",
       "    </tr>\n",
       "    <tr>\n",
       "      <th>8</th>\n",
       "      <td>        VFS Website</td>\n",
       "      <td> 08-24-2014</td>\n",
       "      <td> 09-02-2014</td>\n",
       "    </tr>\n",
       "    <tr>\n",
       "      <th>9</th>\n",
       "      <td>        VFS Website</td>\n",
       "      <td> 08-24-2014</td>\n",
       "      <td> 09-02-2014</td>\n",
       "    </tr>\n",
       "  </tbody>\n",
       "</table>\n",
       "</div>"
      ],
      "text/plain": [
       "          Lead Source Sunday date of last week        Days\n",
       "0         VFS Website               08-24-2014  09-01-2014\n",
       "1  VFS Email Campaign               08-24-2014  09-01-2014\n",
       "2         VFS Website               08-24-2014  09-01-2014\n",
       "3         VFS Website               08-24-2014  09-01-2014\n",
       "4         VFS Website               08-24-2014  09-01-2014\n",
       "5         VFS Website               08-24-2014  09-02-2014\n",
       "6                DIGS               08-24-2014  09-02-2014\n",
       "7                DIGS               08-24-2014  09-02-2014\n",
       "8         VFS Website               08-24-2014  09-02-2014\n",
       "9         VFS Website               08-24-2014  09-02-2014"
      ]
     },
     "execution_count": 263,
     "metadata": {},
     "output_type": "execute_result"
    }
   ],
   "source": [
    "df_4[:10]"
   ]
  },
  {
   "cell_type": "code",
   "execution_count": 264,
   "metadata": {
    "collapsed": false
   },
   "outputs": [
    {
     "name": "stderr",
     "output_type": "stream",
     "text": [
      "C:\\Anaconda\\lib\\site-packages\\IPython\\kernel\\__main__.py:1: SettingWithCopyWarning: \n",
      "A value is trying to be set on a copy of a slice from a DataFrame.\n",
      "Try using .loc[row_indexer,col_indexer] = value instead\n",
      "\n",
      "See the the caveats in the documentation: http://pandas.pydata.org/pandas-docs/stable/indexing.html#indexing-view-versus-copy\n",
      "  if __name__ == '__main__':\n",
      "C:\\Anaconda\\lib\\site-packages\\IPython\\kernel\\__main__.py:6: SettingWithCopyWarning: \n",
      "A value is trying to be set on a copy of a slice from a DataFrame\n",
      "\n",
      "See the the caveats in the documentation: http://pandas.pydata.org/pandas-docs/stable/indexing.html#indexing-view-versus-copy\n"
     ]
    }
   ],
   "source": [
    "df_4['last_week'] = False\n",
    "for i in range(len(df_4[\"Days\"])):\n",
    "    d = datetime.strptime(df_4[\"Days\"][i], \"%m-%d-%Y\")\n",
    "    d1=datetime.date(d)\n",
    "    if datetime.date(datetime.strptime(df_4[\"Days\"][i], \"%m-%d-%Y\")) >= sunday_last_week_false() and datetime.date(datetime.strptime(df_4[\"Days\"][i], \"%m-%d-%Y\")) < sunday(date.today()):\n",
    "        df_4['last_week'][i] = True       \n",
    "    \n",
    "    "
   ]
  },
  {
   "cell_type": "code",
   "execution_count": 265,
   "metadata": {
    "collapsed": false
   },
   "outputs": [
    {
     "data": {
      "text/html": [
       "<div style=\"max-height:1000px;max-width:1500px;overflow:auto;\">\n",
       "<table border=\"1\" class=\"dataframe\">\n",
       "  <thead>\n",
       "    <tr style=\"text-align: right;\">\n",
       "      <th></th>\n",
       "      <th>Lead Source</th>\n",
       "      <th>Sunday date of last week</th>\n",
       "      <th>Days</th>\n",
       "      <th>last_week</th>\n",
       "    </tr>\n",
       "  </thead>\n",
       "  <tbody>\n",
       "    <tr>\n",
       "      <th>0</th>\n",
       "      <td> VFS Website</td>\n",
       "      <td> 05-17-2015</td>\n",
       "      <td> 05-24-2015</td>\n",
       "      <td> True</td>\n",
       "    </tr>\n",
       "    <tr>\n",
       "      <th>1</th>\n",
       "      <td> VFS Website</td>\n",
       "      <td> 05-17-2015</td>\n",
       "      <td> 05-24-2015</td>\n",
       "      <td> True</td>\n",
       "    </tr>\n",
       "    <tr>\n",
       "      <th>2</th>\n",
       "      <td>   Google Ad</td>\n",
       "      <td> 05-17-2015</td>\n",
       "      <td> 05-25-2015</td>\n",
       "      <td> True</td>\n",
       "    </tr>\n",
       "  </tbody>\n",
       "</table>\n",
       "</div>"
      ],
      "text/plain": [
       "   Lead Source Sunday date of last week        Days last_week\n",
       "0  VFS Website               05-17-2015  05-24-2015      True\n",
       "1  VFS Website               05-17-2015  05-24-2015      True\n",
       "2    Google Ad               05-17-2015  05-25-2015      True"
      ]
     },
     "execution_count": 265,
     "metadata": {},
     "output_type": "execute_result"
    }
   ],
   "source": [
    "df_5 = df_4[df_4[\"last_week\"] == True]\n",
    "df_5.index = range(len(df_5.last_week))\n",
    "df_last_week = df_5\n",
    "df_last_week[:3]"
   ]
  },
  {
   "cell_type": "code",
   "execution_count": 266,
   "metadata": {
    "collapsed": true
   },
   "outputs": [],
   "source": [
    "df_last_week = df_last_week.sort(['Sunday date of last week'])"
   ]
  },
  {
   "cell_type": "code",
   "execution_count": 270,
   "metadata": {
    "collapsed": true
   },
   "outputs": [],
   "source": [
    "df_last_week.index = range(len(df_last_week['Days']))"
   ]
  },
  {
   "cell_type": "markdown",
   "metadata": {},
   "source": [
    "# This line of code must be droped"
   ]
  },
  {
   "cell_type": "code",
   "execution_count": 272,
   "metadata": {
    "collapsed": false
   },
   "outputs": [],
   "source": [
    "df_5 = df_last_week[:160]"
   ]
  },
  {
   "cell_type": "code",
   "execution_count": null,
   "metadata": {
    "collapsed": true
   },
   "outputs": [],
   "source": []
  },
  {
   "cell_type": "code",
   "execution_count": 274,
   "metadata": {
    "collapsed": false
   },
   "outputs": [
    {
     "name": "stderr",
     "output_type": "stream",
     "text": [
      "C:\\Anaconda\\lib\\site-packages\\IPython\\kernel\\__main__.py:2: SettingWithCopyWarning: \n",
      "A value is trying to be set on a copy of a slice from a DataFrame.\n",
      "Try using .loc[row_indexer,col_indexer] = value instead\n",
      "\n",
      "See the the caveats in the documentation: http://pandas.pydata.org/pandas-docs/stable/indexing.html#indexing-view-versus-copy\n",
      "  from IPython.kernel.zmq import kernelapp as app\n"
     ]
    }
   ],
   "source": [
    "df_55 = df_5[[\"Lead Source\", \"Days\"]]\n",
    "df_55[\"Count\"] = 1\n",
    "df_55 = df_55.groupby([\"Lead Source\", \"Days\"], as_index=False)\n",
    "df_55 = df_55.aggregate(sum)\n",
    "df_55[\"Schare\"] = 0\n",
    "for i in range(len(df_55[\"Count\"])):\n",
    "    df_55.loc[i, \"Schare\"] = float(df_55[\"Count\"][i])/float(sum_col(df_55[\"Count\"]))"
   ]
  },
  {
   "cell_type": "code",
   "execution_count": 275,
   "metadata": {
    "collapsed": true
   },
   "outputs": [],
   "source": [
    "# get name of month by number\n",
    "df_55 = df_55[[\"Lead Source\", \"Days\", \"Count\"]]\n",
    "df_55.columns = [\"symbol\", \"date\", \"count\"]\n"
   ]
  },
  {
   "cell_type": "code",
   "execution_count": 276,
   "metadata": {
    "collapsed": true
   },
   "outputs": [],
   "source": [
    "df05 = df_55\n",
    "df05[\"values\"] = 1429390800000\n",
    "for i in range(len(df05[\"date\"])):\n",
    "    df05.loc[i, \"values\"] = int(time.mktime(datetime.strptime(df05[\"date\"][i], \"%m-%d-%Y\").timetuple())*1000)"
   ]
  },
  {
   "cell_type": "code",
   "execution_count": 277,
   "metadata": {
    "collapsed": false
   },
   "outputs": [
    {
     "data": {
      "text/html": [
       "<div style=\"max-height:1000px;max-width:1500px;overflow:auto;\">\n",
       "<table border=\"1\" class=\"dataframe\">\n",
       "  <thead>\n",
       "    <tr style=\"text-align: right;\">\n",
       "      <th></th>\n",
       "      <th>symbol</th>\n",
       "      <th>date</th>\n",
       "      <th>count</th>\n",
       "    </tr>\n",
       "  </thead>\n",
       "  <tbody>\n",
       "    <tr>\n",
       "      <th>0</th>\n",
       "      <td> DIGS</td>\n",
       "      <td> 1432414800000</td>\n",
       "      <td>  1</td>\n",
       "    </tr>\n",
       "    <tr>\n",
       "      <th>1</th>\n",
       "      <td> DIGS</td>\n",
       "      <td> 1432501200000</td>\n",
       "      <td>  2</td>\n",
       "    </tr>\n",
       "    <tr>\n",
       "      <th>2</th>\n",
       "      <td> DIGS</td>\n",
       "      <td> 1432587600000</td>\n",
       "      <td> 29</td>\n",
       "    </tr>\n",
       "  </tbody>\n",
       "</table>\n",
       "</div>"
      ],
      "text/plain": [
       "  symbol           date  count\n",
       "0   DIGS  1432414800000      1\n",
       "1   DIGS  1432501200000      2\n",
       "2   DIGS  1432587600000     29"
      ]
     },
     "execution_count": 277,
     "metadata": {},
     "output_type": "execute_result"
    }
   ],
   "source": [
    "df05 = df05[['symbol', 'values', 'count']]\n",
    "df05.columns = ['symbol', 'date', 'count']\n",
    "df05[:3]"
   ]
  },
  {
   "cell_type": "code",
   "execution_count": 278,
   "metadata": {
    "collapsed": false
   },
   "outputs": [],
   "source": [
    "date0 = df05['date']\n",
    "\n",
    "date2 = list(set(date0))\n",
    "        \n",
    "        \n",
    "        \n",
    "symbol = df05['symbol']\n",
    "\n",
    "\n",
    "\n",
    "symbol2 = list(set(symbol))\n",
    "\n",
    "\n",
    "date3 = []\n",
    "for i in range(len(symbol2)):\n",
    "    for j in range(len(date2)):\n",
    "        date3.append(date2[j])\n",
    "        \n",
    "symbol3 = []\n",
    "for i in range(len(symbol2)):\n",
    "    for j in range(len(date2)): \n",
    "        symbol3.append(symbol2[i])\n",
    "        \n",
    "\n",
    "new_lists= pd.DataFrame(columns=['symbol', 'date', 'count'])\n",
    "\n",
    "\n",
    "new_lists['symbol']=symbol3\n",
    "new_lists['date']=date3\n",
    "new_lists['count']=0\n",
    "\n",
    "\n",
    "df6 = pd.concat([df05, new_lists])\n",
    "\n",
    "df66 = df6.drop_duplicates(cols=['symbol', 'date'], take_last=False)\n",
    "\n",
    "\n",
    "df05 = df66.sort(['symbol', 'date'])\n",
    "df05.index = range(len(df05))"
   ]
  },
  {
   "cell_type": "code",
   "execution_count": 279,
   "metadata": {
    "collapsed": false
   },
   "outputs": [
    {
     "data": {
      "text/plain": [
       "[1432674000000,\n",
       " 1432846800000,\n",
       " 1432760400000,\n",
       " 1432501200000,\n",
       " 1432414800000,\n",
       " 1432587600000]"
      ]
     },
     "execution_count": 279,
     "metadata": {},
     "output_type": "execute_result"
    }
   ],
   "source": [
    "date2"
   ]
  },
  {
   "cell_type": "code",
   "execution_count": 280,
   "metadata": {
    "collapsed": true
   },
   "outputs": [],
   "source": [
    "df_mean = df05.groupby(['symbol']).sum()/len(date2)\n",
    "mean1 = df_mean['count']"
   ]
  },
  {
   "cell_type": "code",
   "execution_count": 281,
   "metadata": {
    "collapsed": false
   },
   "outputs": [
    {
     "name": "stderr",
     "output_type": "stream",
     "text": [
      "C:\\Anaconda\\lib\\site-packages\\IPython\\kernel\\__main__.py:8: SettingWithCopyWarning: \n",
      "A value is trying to be set on a copy of a slice from a DataFrame\n",
      "\n",
      "See the the caveats in the documentation: http://pandas.pydata.org/pandas-docs/stable/indexing.html#indexing-view-versus-copy\n"
     ]
    }
   ],
   "source": [
    "df_mean['boolean'] = 'true'\n",
    "\n",
    "df_mean1 = df_mean\n",
    "\n",
    "df_mean1 = df_mean1.sort(['count'])\n",
    "\n",
    "for i in range(len(df_mean1['count'])-5, len(df_mean1['count'])):\n",
    "    df_mean1['boolean'][i] = 'false'\n",
    "    \n",
    "df_mean1 = df_mean1.sort()\n",
    "\n",
    "disabled = df_mean1['boolean']"
   ]
  },
  {
   "cell_type": "code",
   "execution_count": null,
   "metadata": {
    "collapsed": true
   },
   "outputs": [],
   "source": []
  },
  {
   "cell_type": "code",
   "execution_count": null,
   "metadata": {
    "collapsed": true
   },
   "outputs": [],
   "source": []
  },
  {
   "cell_type": "code",
   "execution_count": null,
   "metadata": {
    "collapsed": true
   },
   "outputs": [],
   "source": []
  },
  {
   "cell_type": "code",
   "execution_count": 282,
   "metadata": {
    "collapsed": true
   },
   "outputs": [],
   "source": [
    "list0 = []\n",
    "a = df05[\"date\"].values\n",
    "b = df05[\"count\"].values\n",
    "for i in range(len(df05[\"count\"])):   \n",
    "        list0.append([a[i], b[i]])"
   ]
  },
  {
   "cell_type": "code",
   "execution_count": 283,
   "metadata": {
    "collapsed": false
   },
   "outputs": [],
   "source": [
    "list2 = []\n",
    "for i in range(len(df05[\"count\"])):\n",
    "    list2.append([df05[\"symbol\"][i], list0[i]])"
   ]
  },
  {
   "cell_type": "code",
   "execution_count": 284,
   "metadata": {
    "collapsed": true
   },
   "outputs": [],
   "source": [
    "import sys\n",
    "from contextlib import contextmanager\n",
    "@contextmanager\n",
    "def stdout_redirected(new_stdout):\n",
    "    save_stdout = sys.stdout\n",
    "    sys.stdout = new_stdout\n",
    "    try:\n",
    "        yield None\n",
    "    finally:\n",
    "        sys.stdout = save_stdout"
   ]
  },
  {
   "cell_type": "code",
   "execution_count": 285,
   "metadata": {
    "collapsed": true
   },
   "outputs": [],
   "source": [
    "j = []\n",
    "with open('lw.json', \"w\") as f:\n",
    "    with stdout_redirected(f):\n",
    "        for key, group in groupby(list2, lambda x: x[0]):\n",
    "             print '}, { \"key\":' + \"\\\"\" + key + \"\\\"\" + ',' +'\\\"mean\\\":' + str(mean1[key]) + ','  +  '\\\"values\\\":',  [thing[1] for thing in group]"
   ]
  },
  {
   "cell_type": "code",
   "execution_count": 286,
   "metadata": {
    "collapsed": true
   },
   "outputs": [],
   "source": [
    "json_data=open('lw.json').read()\n",
    "data = '[' + json_data[2:len(json_data)] + \"}]\""
   ]
  },
  {
   "cell_type": "code",
   "execution_count": 287,
   "metadata": {
    "collapsed": true
   },
   "outputs": [],
   "source": [
    "with open('last_week_2.json', \"w\") as f:\n",
    "    with stdout_redirected(f):\n",
    "         print data"
   ]
  },
  {
   "cell_type": "code",
   "execution_count": 288,
   "metadata": {
    "collapsed": false
   },
   "outputs": [
    {
     "data": {
      "text/plain": [
       "symbol\n",
       "DIGS                  false\n",
       "EH Website             true\n",
       "Employee Referral      true\n",
       "External Referral     false\n",
       "Facebook               true\n",
       "Google Ad             false\n",
       "House Sign             true\n",
       "Other                  true\n",
       "Scotsman Guide         true\n",
       "VFS Email Campaign    false\n",
       "VFS Website           false\n",
       "Name: boolean, dtype: object"
      ]
     },
     "execution_count": 288,
     "metadata": {},
     "output_type": "execute_result"
    }
   ],
   "source": [
    "disabled"
   ]
  },
  {
   "cell_type": "code",
   "execution_count": 289,
   "metadata": {
    "collapsed": false
   },
   "outputs": [
    {
     "data": {
      "text/plain": [
       "[['DIGS', [1432414800000, 1]],\n",
       " ['DIGS', [1432501200000, 2]],\n",
       " ['DIGS', [1432587600000, 29]],\n",
       " ['DIGS', [1432674000000, 32]],\n",
       " ['DIGS', [1432760400000, 17]],\n",
       " ['DIGS', [1432846800000, 6]],\n",
       " ['EH Website', [1432414800000, 0]],\n",
       " ['EH Website', [1432501200000, 1]],\n",
       " ['EH Website', [1432587600000, 1]],\n",
       " ['EH Website', [1432674000000, 1]],\n",
       " ['EH Website', [1432760400000, 0]],\n",
       " ['EH Website', [1432846800000, 1]],\n",
       " ['Employee Referral', [1432414800000, 0]],\n",
       " ['Employee Referral', [1432501200000, 0]],\n",
       " ['Employee Referral', [1432587600000, 0]],\n",
       " ['Employee Referral', [1432674000000, 0]],\n",
       " ['Employee Referral', [1432760400000, 1]],\n",
       " ['Employee Referral', [1432846800000, 0]],\n",
       " ['External Referral', [1432414800000, 1]],\n",
       " ['External Referral', [1432501200000, 0]],\n",
       " ['External Referral', [1432587600000, 0]],\n",
       " ['External Referral', [1432674000000, 4]],\n",
       " ['External Referral', [1432760400000, 2]],\n",
       " ['External Referral', [1432846800000, 2]],\n",
       " ['Facebook', [1432414800000, 0]],\n",
       " ['Facebook', [1432501200000, 0]],\n",
       " ['Facebook', [1432587600000, 1]],\n",
       " ['Facebook', [1432674000000, 1]],\n",
       " ['Facebook', [1432760400000, 0]],\n",
       " ['Facebook', [1432846800000, 0]],\n",
       " ['Google Ad', [1432414800000, 2]],\n",
       " ['Google Ad', [1432501200000, 3]],\n",
       " ['Google Ad', [1432587600000, 3]],\n",
       " ['Google Ad', [1432674000000, 4]],\n",
       " ['Google Ad', [1432760400000, 3]],\n",
       " ['Google Ad', [1432846800000, 0]],\n",
       " ['House Sign', [1432414800000, 1]],\n",
       " ['House Sign', [1432501200000, 0]],\n",
       " ['House Sign', [1432587600000, 0]],\n",
       " ['House Sign', [1432674000000, 0]],\n",
       " ['House Sign', [1432760400000, 0]],\n",
       " ['House Sign', [1432846800000, 0]],\n",
       " ['Other', [1432414800000, 0]],\n",
       " ['Other', [1432501200000, 0]],\n",
       " ['Other', [1432587600000, 1]],\n",
       " ['Other', [1432674000000, 0]],\n",
       " ['Other', [1432760400000, 0]],\n",
       " ['Other', [1432846800000, 0]],\n",
       " ['Scotsman Guide', [1432414800000, 0]],\n",
       " ['Scotsman Guide', [1432501200000, 0]],\n",
       " ['Scotsman Guide', [1432587600000, 1]],\n",
       " ['Scotsman Guide', [1432674000000, 0]],\n",
       " ['Scotsman Guide', [1432760400000, 0]],\n",
       " ['Scotsman Guide', [1432846800000, 0]],\n",
       " ['VFS Email Campaign', [1432414800000, 0]],\n",
       " ['VFS Email Campaign', [1432501200000, 0]],\n",
       " ['VFS Email Campaign', [1432587600000, 2]],\n",
       " ['VFS Email Campaign', [1432674000000, 7]],\n",
       " ['VFS Email Campaign', [1432760400000, 1]],\n",
       " ['VFS Email Campaign', [1432846800000, 0]],\n",
       " ['VFS Website', [1432414800000, 3]],\n",
       " ['VFS Website', [1432501200000, 2]],\n",
       " ['VFS Website', [1432587600000, 8]],\n",
       " ['VFS Website', [1432674000000, 2]],\n",
       " ['VFS Website', [1432760400000, 7]],\n",
       " ['VFS Website', [1432846800000, 7]]]"
      ]
     },
     "execution_count": 289,
     "metadata": {},
     "output_type": "execute_result"
    }
   ],
   "source": [
    "list2"
   ]
  },
  {
   "cell_type": "code",
   "execution_count": 290,
   "metadata": {
    "collapsed": false
   },
   "outputs": [],
   "source": [
    "j = []\n",
    "with open('lw7.json', \"w\") as f:\n",
    "    with stdout_redirected(f):\n",
    "        for key, group in groupby(list2, lambda x: x[0]):\n",
    "             print '}, { \"key\":' + \"\\\"\" + key + \"\\\"\" + ',' + '\\\"mean\\\":' + str(mean1[key]) + ',' + '\\\"disabled\\\":' + disabled[key] + ',' + '\\\"values\\\":',  [thing[1] for thing in group]"
   ]
  },
  {
   "cell_type": "code",
   "execution_count": 291,
   "metadata": {
    "collapsed": true
   },
   "outputs": [],
   "source": [
    "json_data=open('lw7.json').read()\n",
    "data = '[' + json_data[2:len(json_data)] + \"}]\""
   ]
  },
  {
   "cell_type": "code",
   "execution_count": 292,
   "metadata": {
    "collapsed": true
   },
   "outputs": [],
   "source": [
    "with open('last_week.json', \"w\") as f:\n",
    "    with stdout_redirected(f):\n",
    "         print data"
   ]
  },
  {
   "cell_type": "markdown",
   "metadata": {},
   "source": [
    "# Choose last 8 weeks"
   ]
  },
  {
   "cell_type": "code",
   "execution_count": 187,
   "metadata": {
    "collapsed": false
   },
   "outputs": [
    {
     "name": "stderr",
     "output_type": "stream",
     "text": [
      "C:\\Anaconda\\lib\\site-packages\\IPython\\kernel\\__main__.py:44: SettingWithCopyWarning: \n",
      "A value is trying to be set on a copy of a slice from a DataFrame.\n",
      "Try using .loc[row_indexer,col_indexer] = value instead\n",
      "\n",
      "See the the caveats in the documentation: http://pandas.pydata.org/pandas-docs/stable/indexing.html#indexing-view-versus-copy\n",
      "C:\\Anaconda\\lib\\site-packages\\pandas\\core\\frame.py:1808: UserWarning: Boolean Series key will be reindexed to match DataFrame index.\n",
      "  \"DataFrame index.\", UserWarning)\n"
     ]
    },
    {
     "data": {
      "text/html": [
       "<div style=\"max-height:1000px;max-width:1500px;overflow:auto;\">\n",
       "<table border=\"1\" class=\"dataframe\">\n",
       "  <thead>\n",
       "    <tr style=\"text-align: right;\">\n",
       "      <th></th>\n",
       "      <th>Lead Source</th>\n",
       "      <th>Sunday date</th>\n",
       "      <th>days</th>\n",
       "    </tr>\n",
       "  </thead>\n",
       "  <tbody>\n",
       "    <tr>\n",
       "      <th>0</th>\n",
       "      <td> VFS Email Campaign</td>\n",
       "      <td> 04-19-2015</td>\n",
       "      <td> 52</td>\n",
       "    </tr>\n",
       "    <tr>\n",
       "      <th>1</th>\n",
       "      <td>           Facebook</td>\n",
       "      <td> 04-19-2015</td>\n",
       "      <td> 52</td>\n",
       "    </tr>\n",
       "    <tr>\n",
       "      <th>2</th>\n",
       "      <td>           Facebook</td>\n",
       "      <td> 04-19-2015</td>\n",
       "      <td> 52</td>\n",
       "    </tr>\n",
       "  </tbody>\n",
       "</table>\n",
       "</div>"
      ],
      "text/plain": [
       "          Lead Source Sunday date  days\n",
       "0  VFS Email Campaign  04-19-2015    52\n",
       "1            Facebook  04-19-2015    52\n",
       "2            Facebook  04-19-2015    52"
      ]
     },
     "execution_count": 187,
     "metadata": {},
     "output_type": "execute_result"
    }
   ],
   "source": [
    "df_week = df_1[[\"Lead Source\", \"Sunday date\"]]\n",
    "df_8_week = last_8_weeks(df_week)\n",
    "df_8 = df_8_week[df_8_week[\"days\"] < 57]\n",
    "df_8 = df_8[df_8_week[\"days\"] > 0]\n",
    "df_8.index = range(len(df_8.days))\n",
    "df_8[:3]"
   ]
  },
  {
   "cell_type": "code",
   "execution_count": 188,
   "metadata": {
    "collapsed": false
   },
   "outputs": [
    {
     "name": "stderr",
     "output_type": "stream",
     "text": [
      "C:\\Anaconda\\lib\\site-packages\\IPython\\kernel\\__main__.py:2: SettingWithCopyWarning: \n",
      "A value is trying to be set on a copy of a slice from a DataFrame.\n",
      "Try using .loc[row_indexer,col_indexer] = value instead\n",
      "\n",
      "See the the caveats in the documentation: http://pandas.pydata.org/pandas-docs/stable/indexing.html#indexing-view-versus-copy\n",
      "  from IPython.kernel.zmq import kernelapp as app\n"
     ]
    },
    {
     "data": {
      "text/html": [
       "<div style=\"max-height:1000px;max-width:1500px;overflow:auto;\">\n",
       "<table border=\"1\" class=\"dataframe\">\n",
       "  <thead>\n",
       "    <tr style=\"text-align: right;\">\n",
       "      <th></th>\n",
       "      <th>Lead Source</th>\n",
       "      <th>Sunday date</th>\n",
       "      <th>Count</th>\n",
       "      <th>Schare</th>\n",
       "    </tr>\n",
       "  </thead>\n",
       "  <tbody>\n",
       "    <tr>\n",
       "      <th>0</th>\n",
       "      <td> Auction.com</td>\n",
       "      <td> 05-17-2015</td>\n",
       "      <td>  1</td>\n",
       "      <td> 0.000994</td>\n",
       "    </tr>\n",
       "    <tr>\n",
       "      <th>1</th>\n",
       "      <td>        DIGS</td>\n",
       "      <td> 04-19-2015</td>\n",
       "      <td> 40</td>\n",
       "      <td> 0.039761</td>\n",
       "    </tr>\n",
       "    <tr>\n",
       "      <th>2</th>\n",
       "      <td>        DIGS</td>\n",
       "      <td> 04-26-2015</td>\n",
       "      <td> 40</td>\n",
       "      <td> 0.039761</td>\n",
       "    </tr>\n",
       "  </tbody>\n",
       "</table>\n",
       "</div>"
      ],
      "text/plain": [
       "   Lead Source Sunday date  Count    Schare\n",
       "0  Auction.com  05-17-2015      1  0.000994\n",
       "1         DIGS  04-19-2015     40  0.039761\n",
       "2         DIGS  04-26-2015     40  0.039761"
      ]
     },
     "execution_count": 188,
     "metadata": {},
     "output_type": "execute_result"
    }
   ],
   "source": [
    "df_2 = df_8[[\"Lead Source\", \"Sunday date\"]]\n",
    "df_2[\"Count\"] = 1\n",
    "df_2 = df_2.groupby([\"Lead Source\", \"Sunday date\"], as_index=False)\n",
    "df_2 = df_2.aggregate(sum)\n",
    "df_2[\"Schare\"] = 0\n",
    "for i in range(len(df_2[\"Count\"])):\n",
    "    df_2.loc[i, \"Schare\"] = float(df_2[\"Count\"][i])/float(sum_col(df_2[\"Count\"]))\n",
    "    \n",
    "df_week_8 = df_2\n",
    "df_week_8[:3]"
   ]
  },
  {
   "cell_type": "code",
   "execution_count": 189,
   "metadata": {
    "collapsed": true
   },
   "outputs": [],
   "source": [
    "# get name of month by number\n",
    "df_week_8 = df_week_8[[\"Lead Source\", \"Sunday date\", \"Count\"]]\n",
    "df_week_8.columns = [\"symbol\", \"date\", \"count\"]\n",
    "df_week_8.to_csv(\"week_8.csv\", index = False)"
   ]
  },
  {
   "cell_type": "code",
   "execution_count": 190,
   "metadata": {
    "collapsed": false
   },
   "outputs": [
    {
     "name": "stderr",
     "output_type": "stream",
     "text": [
      "C:\\Anaconda\\lib\\site-packages\\IPython\\kernel\\__main__.py:2: SettingWithCopyWarning: \n",
      "A value is trying to be set on a copy of a slice from a DataFrame.\n",
      "Try using .loc[row_indexer,col_indexer] = value instead\n",
      "\n",
      "See the the caveats in the documentation: http://pandas.pydata.org/pandas-docs/stable/indexing.html#indexing-view-versus-copy\n",
      "  from IPython.kernel.zmq import kernelapp as app\n"
     ]
    }
   ],
   "source": [
    "df0 = df_week_8\n",
    "df0[\"values\"] = 1429390800000\n",
    "for i in range(len(df0[\"date\"])):\n",
    "    df0.loc[i, \"values\"] = int(time.mktime(datetime.strptime(df0[\"date\"][i], \"%m-%d-%Y\").timetuple())*1000)\n"
   ]
  },
  {
   "cell_type": "code",
   "execution_count": 191,
   "metadata": {
    "collapsed": false,
    "scrolled": true
   },
   "outputs": [],
   "source": [
    "df0 = df0[['symbol', 'values', 'count']]\n",
    "df0.columns = ['symbol', 'date', 'count']\n",
    "df0[:3]\n",
    "df08 = df0"
   ]
  },
  {
   "cell_type": "code",
   "execution_count": 192,
   "metadata": {
    "collapsed": false
   },
   "outputs": [],
   "source": [
    "date0 = df08['date']\n",
    "\n",
    "date2 = list(set(date0))\n",
    "        \n",
    "        \n",
    "        \n",
    "symbol = df08['symbol']\n",
    "\n",
    "\n",
    "\n",
    "symbol2 = list(set(symbol))\n",
    "\n",
    "\n",
    "date3 = []\n",
    "for i in range(len(symbol2)):\n",
    "    for j in range(len(date2)):\n",
    "        date3.append(date2[j])\n",
    "        \n",
    "symbol3 = []\n",
    "for i in range(len(symbol2)):\n",
    "    for j in range(len(date2)): \n",
    "        symbol3.append(symbol2[i])\n",
    "        \n",
    "\n",
    "new_lists= pd.DataFrame(columns=['symbol', 'date', 'count'])\n",
    "\n",
    "\n",
    "new_lists['symbol']=symbol3\n",
    "new_lists['date']=date3\n",
    "new_lists['count']=0\n",
    "\n",
    "\n",
    "df6 = pd.concat([df08, new_lists])\n",
    "\n",
    "df66 = df6.drop_duplicates(cols=['symbol', 'date'], take_last=False)\n",
    "\n",
    "\n",
    "df08 = df66.sort(['symbol', 'date'])\n",
    "df08.index = range(len(df08))"
   ]
  },
  {
   "cell_type": "code",
   "execution_count": 193,
   "metadata": {
    "collapsed": true
   },
   "outputs": [],
   "source": [
    "df_mean = df08.groupby(['symbol']).sum()/len(date2)\n",
    "mean1 = df_mean['count']"
   ]
  },
  {
   "cell_type": "code",
   "execution_count": 194,
   "metadata": {
    "collapsed": false
   },
   "outputs": [
    {
     "name": "stderr",
     "output_type": "stream",
     "text": [
      "C:\\Anaconda\\lib\\site-packages\\IPython\\kernel\\__main__.py:8: SettingWithCopyWarning: \n",
      "A value is trying to be set on a copy of a slice from a DataFrame\n",
      "\n",
      "See the the caveats in the documentation: http://pandas.pydata.org/pandas-docs/stable/indexing.html#indexing-view-versus-copy\n"
     ]
    }
   ],
   "source": [
    "df_mean['boolean'] = 'true'\n",
    "\n",
    "df_mean1 = df_mean\n",
    "\n",
    "df_mean1 = df_mean1.sort(['count'])\n",
    "\n",
    "for i in range(len(df_mean1['count'])-5, len(df_mean1['count'])):\n",
    "    df_mean1['boolean'][i] = 'false'\n",
    "    \n",
    "df_mean1 = df_mean1.sort()\n",
    "\n",
    "disabled = df_mean1['boolean']"
   ]
  },
  {
   "cell_type": "code",
   "execution_count": null,
   "metadata": {
    "collapsed": true
   },
   "outputs": [],
   "source": []
  },
  {
   "cell_type": "code",
   "execution_count": null,
   "metadata": {
    "collapsed": true
   },
   "outputs": [],
   "source": []
  },
  {
   "cell_type": "code",
   "execution_count": 195,
   "metadata": {
    "collapsed": false
   },
   "outputs": [],
   "source": [
    "list0 = []\n",
    "a = df08[\"date\"].values\n",
    "b = df08[\"count\"].values\n",
    "for i in range(len(df08[\"count\"])):   \n",
    "        list0.append([a[i], b[i]])"
   ]
  },
  {
   "cell_type": "code",
   "execution_count": 196,
   "metadata": {
    "collapsed": false
   },
   "outputs": [],
   "source": [
    "list2 = []\n",
    "for i in range(len(df08[\"count\"])):\n",
    "    list2.append([df08[\"symbol\"][i], list0[i]])"
   ]
  },
  {
   "cell_type": "code",
   "execution_count": 197,
   "metadata": {
    "collapsed": false
   },
   "outputs": [],
   "source": [
    "import sys\n",
    "from contextlib import contextmanager\n",
    "@contextmanager\n",
    "def stdout_redirected(new_stdout):\n",
    "    save_stdout = sys.stdout\n",
    "    sys.stdout = new_stdout\n",
    "    try:\n",
    "        yield None\n",
    "    finally:\n",
    "        sys.stdout = save_stdout"
   ]
  },
  {
   "cell_type": "code",
   "execution_count": 198,
   "metadata": {
    "collapsed": false
   },
   "outputs": [],
   "source": [
    "j = []\n",
    "with open('7.json', \"w\") as f:\n",
    "    with stdout_redirected(f):\n",
    "        for key, group in groupby(list2, lambda x: x[0]):\n",
    "             print '}, { \"key\":' + \"\\\"\" + key + \"\\\"\" + ',' + '\\\"mean\\\":' + str(mean1[key]) + ',' + '\\\"disabled\\\":' + disabled[key] + ',' +  '\\\"values\\\":',  [thing[1] for thing in group]"
   ]
  },
  {
   "cell_type": "code",
   "execution_count": 199,
   "metadata": {
    "collapsed": false
   },
   "outputs": [],
   "source": [
    "json_data=open('7.json').read()\n",
    "data = '[' + json_data[2:len(json_data)] + \"}]\""
   ]
  },
  {
   "cell_type": "code",
   "execution_count": 200,
   "metadata": {
    "collapsed": false
   },
   "outputs": [],
   "source": [
    "with open('last_8_weeks.json', \"w\") as f:\n",
    "    with stdout_redirected(f):\n",
    "         print data"
   ]
  },
  {
   "cell_type": "code",
   "execution_count": null,
   "metadata": {
    "collapsed": true
   },
   "outputs": [],
   "source": []
  }
 ],
 "metadata": {
  "kernelspec": {
   "display_name": "Python 2",
   "language": "python",
   "name": "python2"
  },
  "language_info": {
   "codemirror_mode": {
    "name": "ipython",
    "version": 2
   },
   "file_extension": ".py",
   "mimetype": "text/x-python",
   "name": "python",
   "nbconvert_exporter": "python",
   "pygments_lexer": "ipython2",
   "version": "2.7.9"
  }
 },
 "nbformat": 4,
 "nbformat_minor": 0
}
