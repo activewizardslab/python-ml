{
 "cells": [
  {
   "cell_type": "markdown",
   "metadata": {},
   "source": [
    "## Similar buyers"
   ]
  },
  {
   "cell_type": "markdown",
   "metadata": {},
   "source": [
    "### Collaborative filtering algorithm"
   ]
  },
  {
   "cell_type": "markdown",
   "metadata": {},
   "source": [
    "A collaborative filtering algorithm usually works by searching a large group of people\n",
    "and finding a smaller set with tastes similar to yours. It looks at other things they\n",
    "like and combines them to create a ranked list of suggestions"
   ]
  },
  {
   "cell_type": "markdown",
   "metadata": {},
   "source": [
    "#### 1. Collecting Preferences"
   ]
  },
  {
   "cell_type": "markdown",
   "metadata": {},
   "source": [
    "(If we have a shopping site, we can use a value of 3 to indicate that someone had bought an item, 2 - item is in wish list, 1 - someone browsed item.)"
   ]
  },
  {
   "cell_type": "code",
   "execution_count": 1,
   "metadata": {
    "collapsed": false
   },
   "outputs": [],
   "source": [
    "shopping = {\n",
    "    'Lisa Rose': {\n",
    "        'notebook': 3,\n",
    "        'e-book': 1,\n",
    "        'phone': 1,\n",
    "        'bag': 2,\n",
    "        'mouse': 3,\n",
    "        'shampoo': 1,\n",
    "    },\n",
    "    'Gene Seymour': {\n",
    "        'notebook': 2,\n",
    "        'e-book': 3,\n",
    "        'phone': 1,\n",
    "        'bag': 3,\n",
    "        'mouse': 2,\n",
    "        'sock': 2,\n",
    "        'shoes': 2,\n",
    "        'shirt': 2,\n",
    "        'shampoo': 1,\n",
    "    },\n",
    "    'Michael Phillips': {\n",
    "        'notebook': 2,\n",
    "        'bag': 2,\n",
    "        'mouse': 3,\n",
    "        'shampoo': 1,\n",
    "    },\n",
    "    'Claudia Puig': {\n",
    "        'notebook': 1,\n",
    "        'bag': 3,\n",
    "        'mouse': 2,\n",
    "        'shampoo': 3,\n",
    "    },\n",
    "    'Mick LaSalle': {\n",
    "        'table': 2,\n",
    "        'sock': 1,\n",
    "        'shoes': 3,\n",
    "        'shirt': 1,\n",
    "        'cap': 2,\n",
    "        'shampoo': 1,\n",
    "    },\n",
    "    'Lary Broun': {\n",
    "        'mouse': 1,\n",
    "        'sock': 2,\n",
    "        'shoes': 3,\n",
    "        'shirt': 3,\n",
    "        'cap': 1,\n",
    "        'shampoo': 1,\n",
    "     },\n",
    "    'Jack Matthews': {\n",
    "        'notebook': 2,\n",
    "        'e-book': 3,\n",
    "        'phone': 1,\n",
    "        'bag': 2,\n",
    "    },\n",
    "    'Toby': {\n",
    "        'mouse': 1,\n",
    "        'sock': 3,\n",
    "        'shoes': 3,\n",
    "        'shirt': 3,\n",
    "        'cap': 1,\n",
    "        'shampoo': 1,\n",
    "},\n",
    "}\n"
   ]
  },
  {
   "cell_type": "code",
   "execution_count": 39,
   "metadata": {
    "collapsed": false
   },
   "outputs": [
    {
     "data": {
      "text/plain": [
       "3"
      ]
     },
     "execution_count": 39,
     "metadata": {},
     "output_type": "execute_result"
    }
   ],
   "source": [
    "shopping['Lisa Rose']['notebook']"
   ]
  },
  {
   "cell_type": "code",
   "execution_count": 40,
   "metadata": {
    "collapsed": false
   },
   "outputs": [
    {
     "data": {
      "text/plain": [
       "{'cap': 1, 'mouse': 1, 'shampoo': 1, 'shirt': 3, 'shoes': 3, 'sock': 3}"
      ]
     },
     "execution_count": 40,
     "metadata": {},
     "output_type": "execute_result"
    }
   ],
   "source": [
    "shopping['Toby']"
   ]
  },
  {
   "cell_type": "markdown",
   "metadata": {},
   "source": [
    "#### 2. Finding Similar Customers"
   ]
  },
  {
   "cell_type": "markdown",
   "metadata": {},
   "source": [
    "Euclidean Distance Score"
   ]
  },
  {
   "cell_type": "code",
   "execution_count": 9,
   "metadata": {
    "collapsed": false
   },
   "outputs": [],
   "source": [
    "from math import sqrt\n"
   ]
  },
  {
   "cell_type": "code",
   "execution_count": 2,
   "metadata": {
    "collapsed": false
   },
   "outputs": [],
   "source": [
    "# Returns a distance-based similarity score for person1 and person2\n",
    "def sim_distance(prefs,person1,person2):\n",
    "    \n",
    "    # Get the list of shared_items\n",
    "    si={}\n",
    "    for item in prefs[person1]:\n",
    "        if item in prefs[person2]:\n",
    "            si[item]=1\n",
    "            \n",
    "    # if they have no purchase in common, return 0\n",
    "    if len(si)==0: return 0\n",
    "    \n",
    "    # Add up the squares of all the differences\n",
    "    sum_of_squares=sum([pow(prefs[person1][item]-prefs[person2][item],2) for item in prefs[person1] if item in prefs[person2]])\n",
    "    return 1.0/(1.0+float(sum_of_squares))"
   ]
  },
  {
   "cell_type": "code",
   "execution_count": 45,
   "metadata": {
    "collapsed": false
   },
   "outputs": [
    {
     "data": {
      "text/plain": [
       "0.1"
      ]
     },
     "execution_count": 45,
     "metadata": {},
     "output_type": "execute_result"
    }
   ],
   "source": [
    "sim_distance(shopping, 'Mick LaSalle','Toby')"
   ]
  },
  {
   "cell_type": "code",
   "execution_count": 44,
   "metadata": {
    "collapsed": false
   },
   "outputs": [
    {
     "data": {
      "text/plain": [
       "0.2"
      ]
     },
     "execution_count": 44,
     "metadata": {},
     "output_type": "execute_result"
    }
   ],
   "source": [
    "sim_distance(shopping, 'Gene Seymour','Toby')"
   ]
  },
  {
   "cell_type": "code",
   "execution_count": 54,
   "metadata": {
    "collapsed": false
   },
   "outputs": [
    {
     "data": {
      "text/plain": [
       "0.5"
      ]
     },
     "execution_count": 54,
     "metadata": {},
     "output_type": "execute_result"
    }
   ],
   "source": [
    "sim_distance(shopping, 'Lary Broun','Toby')"
   ]
  },
  {
   "cell_type": "markdown",
   "metadata": {},
   "source": [
    "#### 3. Pearson Correlation Score"
   ]
  },
  {
   "cell_type": "code",
   "execution_count": 14,
   "metadata": {
    "collapsed": false
   },
   "outputs": [],
   "source": [
    "# Returns the Pearson correlation coefficient for p1 and p2\n",
    "def sim_pearson(prefs,p1,p2):\n",
    "    # Get the list of mutually rated items\n",
    "    si={}\n",
    "    for item in prefs[p1]:\n",
    "        if item in prefs[p2]:\n",
    "            si[item]=1\n",
    "            \n",
    "    # Find the number of elements\n",
    "    n=len(si)\n",
    "    \n",
    "    # if they are no purchase in common, return 0\n",
    "    if n==0: return 0\n",
    "    \n",
    "    # Add up all the preferences\n",
    "    sum1=sum([prefs[p1][it] for it in si])\n",
    "    sum2=sum([prefs[p2][it] for it in si])\n",
    "    \n",
    "    # Sum up the squares\n",
    "    sum1Sq=sum([pow(prefs[p1][it],2) for it in si])\n",
    "    sum2Sq=sum([pow(prefs[p2][it],2) for it in si])\n",
    "    \n",
    "    # Sum up the products\n",
    "    pSum=sum([prefs[p1][it]*prefs[p2][it] for it in si])\n",
    "    \n",
    "    # Calculate Pearson score\n",
    "    num=pSum-(sum1*sum2/n)\n",
    "    den=sqrt((sum1Sq-pow(sum1,2)/n)*(sum2Sq-pow(sum2,2)/n))\n",
    "    \n",
    "    if den==0: return 0\n",
    "    r=num/den\n",
    "    return r"
   ]
  },
  {
   "cell_type": "code",
   "execution_count": 46,
   "metadata": {
    "collapsed": false
   },
   "outputs": [
    {
     "data": {
      "text/plain": [
       "0.22360679774997896"
      ]
     },
     "execution_count": 46,
     "metadata": {},
     "output_type": "execute_result"
    }
   ],
   "source": [
    "sim_pearson(shopping, 'Mick LaSalle','Toby')"
   ]
  },
  {
   "cell_type": "code",
   "execution_count": 47,
   "metadata": {
    "collapsed": false
   },
   "outputs": [
    {
     "data": {
      "text/plain": [
       "0.8944271909999159"
      ]
     },
     "execution_count": 47,
     "metadata": {},
     "output_type": "execute_result"
    }
   ],
   "source": [
    "sim_pearson(shopping, 'Gene Seymour','Toby')"
   ]
  },
  {
   "cell_type": "code",
   "execution_count": 55,
   "metadata": {
    "collapsed": false
   },
   "outputs": [
    {
     "data": {
      "text/plain": [
       "0.9128709291752769"
      ]
     },
     "execution_count": 55,
     "metadata": {},
     "output_type": "execute_result"
    }
   ],
   "source": [
    "sim_pearson(shopping, 'Lary Broun','Toby')"
   ]
  },
  {
   "cell_type": "markdown",
   "metadata": {},
   "source": [
    "#### 4. Ranking the shopping."
   ]
  },
  {
   "cell_type": "code",
   "execution_count": 69,
   "metadata": {
    "collapsed": false
   },
   "outputs": [],
   "source": [
    "# Returns the best matches for person from the prefs dictionary.\n",
    "# Number of results and similarity function are optional params.\n",
    "def topMatches(prefs,person,n=5,similarity=sim_pearson):\n",
    "    scores=[(similarity(prefs,person,other),other)  for other in prefs if other!=person]\n",
    "    \n",
    "    # Sort the list so the highest scores appear at the top\n",
    "    scores.sort( )\n",
    "    scores.reverse( )\n",
    "    return scores[0:n]"
   ]
  },
  {
   "cell_type": "code",
   "execution_count": 57,
   "metadata": {
    "collapsed": false
   },
   "outputs": [
    {
     "data": {
      "text/plain": [
       "[(0.9128709291752769, 'Lary Broun'),\n",
       " (0.8944271909999159, 'Gene Seymour'),\n",
       " (0.22360679774997896, 'Mick LaSalle'),\n",
       " (0, 'Michael Phillips'),\n",
       " (0, 'Lisa Rose')]"
      ]
     },
     "execution_count": 57,
     "metadata": {},
     "output_type": "execute_result"
    }
   ],
   "source": [
    "topMatches(shopping,'Toby',n=5)"
   ]
  },
  {
   "cell_type": "markdown",
   "metadata": {},
   "source": [
    "#### 5. Recommending Items"
   ]
  },
  {
   "cell_type": "code",
   "execution_count": 58,
   "metadata": {
    "collapsed": false
   },
   "outputs": [],
   "source": [
    "# Gets recommendations for a person by using a weighted average\n",
    "# of every other user's rankings\n",
    "def getRecommendations(prefs,person,similarity=sim_pearson):\n",
    "    totals={}\n",
    "    simSums={}\n",
    "    for other in prefs:\n",
    "        \n",
    "        # don't compare me to myself\n",
    "        if other==person: \n",
    "            continue \n",
    "            \n",
    "        sim=similarity(prefs,person,other)\n",
    "        \n",
    "        # ignore scores of zero or lower\n",
    "        if sim<=0: \n",
    "            continue\n",
    "            \n",
    "        for item in prefs[other]:\n",
    "            # only score movies I haven't seen yet\n",
    "            \n",
    "            if item not in prefs[person] or prefs[person][item]==0:\n",
    "                \n",
    "                # Similarity * Score\n",
    "                totals.setdefault(item,0)\n",
    "                totals[item]+=prefs[other][item]*sim\n",
    "                \n",
    "                # Sum of similarities\n",
    "                simSums.setdefault(item,0)\n",
    "                simSums[item]+=sim\n",
    "                \n",
    "                \n",
    "                \n",
    "    # Create the normalized list\n",
    "    rankings=[(total/simSums[item],item) for item,total in totals.items( )]\n",
    "\n",
    "    # Return the sorted list\n",
    "    rankings.sort( )\n",
    "    rankings.reverse( )\n",
    "    return rankings"
   ]
  },
  {
   "cell_type": "code",
   "execution_count": 59,
   "metadata": {
    "collapsed": false
   },
   "outputs": [
    {
     "data": {
      "text/plain": [
       "[(3.0, 'e-book'),\n",
       " (3.0, 'bag'),\n",
       " (2.0, 'table'),\n",
       " (2.0, 'notebook'),\n",
       " (1.0, 'phone')]"
      ]
     },
     "execution_count": 59,
     "metadata": {},
     "output_type": "execute_result"
    }
   ],
   "source": [
    "getRecommendations(shopping,'Toby')"
   ]
  },
  {
   "cell_type": "code",
   "execution_count": 60,
   "metadata": {
    "collapsed": false
   },
   "outputs": [
    {
     "data": {
      "text/plain": [
       "[(2.4782608695652173, 'bag'),\n",
       " (2.043478260869566, 'notebook'),\n",
       " (2.0, 'table'),\n",
       " (2.0, 'e-book'),\n",
       " (1.0, 'phone')]"
      ]
     },
     "execution_count": 60,
     "metadata": {},
     "output_type": "execute_result"
    }
   ],
   "source": [
    "getRecommendations(shopping,'Toby', similarity=sim_distance)"
   ]
  },
  {
   "cell_type": "markdown",
   "metadata": {},
   "source": [
    "## Matching Products"
   ]
  },
  {
   "cell_type": "markdown",
   "metadata": {},
   "source": [
    "Here we will try to see which products are similar to each other. In this case we must transform the dataset to production == > people ==> number. It seems just to swap the people and the items."
   ]
  },
  {
   "cell_type": "markdown",
   "metadata": {},
   "source": [
    "#### 1. Similar products"
   ]
  },
  {
   "cell_type": "code",
   "execution_count": 61,
   "metadata": {
    "collapsed": false
   },
   "outputs": [],
   "source": [
    "def transformPrefs(prefs):\n",
    "    result={}\n",
    "    for person in prefs:\n",
    "        for item in prefs[person]:\n",
    "            result.setdefault(item,{})\n",
    "            \n",
    "            # Flip item and person\n",
    "            result[item][person]=prefs[person][item]\n",
    "    return result"
   ]
  },
  {
   "cell_type": "code",
   "execution_count": 63,
   "metadata": {
    "collapsed": false
   },
   "outputs": [
    {
     "data": {
      "text/plain": [
       "{'bag': {'Claudia Puig': 3,\n",
       "  'Gene Seymour': 3,\n",
       "  'Jack Matthews': 2,\n",
       "  'Lisa Rose': 2,\n",
       "  'Michael Phillips': 2},\n",
       " 'cap': {'Lary Broun': 1, 'Mick LaSalle': 2, 'Toby': 1},\n",
       " 'e-book': {'Gene Seymour': 3, 'Jack Matthews': 3, 'Lisa Rose': 1},\n",
       " 'mouse': {'Claudia Puig': 2,\n",
       "  'Gene Seymour': 2,\n",
       "  'Lary Broun': 1,\n",
       "  'Lisa Rose': 3,\n",
       "  'Michael Phillips': 3,\n",
       "  'Toby': 1},\n",
       " 'notebook': {'Claudia Puig': 1,\n",
       "  'Gene Seymour': 2,\n",
       "  'Jack Matthews': 2,\n",
       "  'Lisa Rose': 3,\n",
       "  'Michael Phillips': 2},\n",
       " 'phone': {'Gene Seymour': 1, 'Jack Matthews': 1, 'Lisa Rose': 1},\n",
       " 'shampoo': {'Claudia Puig': 3,\n",
       "  'Gene Seymour': 1,\n",
       "  'Lary Broun': 1,\n",
       "  'Lisa Rose': 1,\n",
       "  'Michael Phillips': 1,\n",
       "  'Mick LaSalle': 1,\n",
       "  'Toby': 1},\n",
       " 'shirt': {'Gene Seymour': 2, 'Lary Broun': 3, 'Mick LaSalle': 1, 'Toby': 3},\n",
       " 'shoes': {'Gene Seymour': 2, 'Lary Broun': 3, 'Mick LaSalle': 3, 'Toby': 3},\n",
       " 'sock': {'Gene Seymour': 2, 'Lary Broun': 2, 'Mick LaSalle': 1, 'Toby': 3},\n",
       " 'table': {'Mick LaSalle': 2}}"
      ]
     },
     "execution_count": 63,
     "metadata": {},
     "output_type": "execute_result"
    }
   ],
   "source": [
    "products = transformPrefs(shopping)\n",
    "products"
   ]
  },
  {
   "cell_type": "markdown",
   "metadata": {},
   "source": [
    "find the set of products most similar to notebook"
   ]
  },
  {
   "cell_type": "code",
   "execution_count": 64,
   "metadata": {
    "collapsed": false
   },
   "outputs": [
    {
     "data": {
      "text/plain": [
       "[(0.7071067811865475, 'mouse'),\n",
       " (0, 'table'),\n",
       " (0, 'sock'),\n",
       " (0, 'shoes'),\n",
       " (0, 'shirt')]"
      ]
     },
     "execution_count": 64,
     "metadata": {},
     "output_type": "execute_result"
    }
   ],
   "source": [
    "topMatches(products,'notebook')"
   ]
  },
  {
   "cell_type": "code",
   "execution_count": 65,
   "metadata": {
    "collapsed": false
   },
   "outputs": [
    {
     "data": {
      "text/plain": [
       "[(0.8164965809277261, 'shirt'),\n",
       " (0, 'table'),\n",
       " (0.0, 'shoes'),\n",
       " (0, 'shampoo'),\n",
       " (0, 'phone')]"
      ]
     },
     "execution_count": 65,
     "metadata": {},
     "output_type": "execute_result"
    }
   ],
   "source": [
    "topMatches(products,'sock')"
   ]
  },
  {
   "cell_type": "code",
   "execution_count": 67,
   "metadata": {
    "collapsed": false
   },
   "outputs": [
    {
     "data": {
      "text/plain": [
       "[(0.5773502691896258, 'shampoo'),\n",
       " (0.5773502691896258, 'e-book'),\n",
       " (0, 'table'),\n",
       " (0, 'sock'),\n",
       " (0, 'shoes')]"
      ]
     },
     "execution_count": 67,
     "metadata": {},
     "output_type": "execute_result"
    }
   ],
   "source": [
    "topMatches(products,'bag')"
   ]
  },
  {
   "cell_type": "markdown",
   "metadata": {},
   "source": [
    "get list of people who buy this products in future"
   ]
  },
  {
   "cell_type": "code",
   "execution_count": 70,
   "metadata": {
    "collapsed": false
   },
   "outputs": [
    {
     "data": {
      "text/plain": [
       "[(1.0, 'Toby'), (1.0, 'Lary Broun')]"
      ]
     },
     "execution_count": 70,
     "metadata": {},
     "output_type": "execute_result"
    }
   ],
   "source": [
    "getRecommendations(products,'notebook')"
   ]
  },
  {
   "cell_type": "code",
   "execution_count": 71,
   "metadata": {
    "collapsed": false
   },
   "outputs": [
    {
     "data": {
      "text/plain": [
       "[(2.0, 'Jack Matthews')]"
      ]
     },
     "execution_count": 71,
     "metadata": {},
     "output_type": "execute_result"
    }
   ],
   "source": [
    "getRecommendations(products,'mouse')"
   ]
  },
  {
   "cell_type": "markdown",
   "metadata": {},
   "source": [
    "#### 2. Similarity distance for products."
   ]
  },
  {
   "cell_type": "code",
   "execution_count": 73,
   "metadata": {
    "collapsed": false
   },
   "outputs": [],
   "source": [
    "def calculateSimilarItems(prefs,n=10):\n",
    "    \n",
    "   # Create a dictionary of items showing which other items they\n",
    "   # are most similar to.\n",
    "   result={}\n",
    "    \n",
    "   # Invert the preference matrix to be item-centric\n",
    "   itemPrefs=transformPrefs(prefs)\n",
    "   c=0\n",
    "   for item in itemPrefs:\n",
    "        \n",
    "       # Status updates for large datasets\n",
    "       c+=1\n",
    "       if c%100==0: print \"%d / %d\" % (c,len(itemPrefs))\n",
    "            \n",
    "       # Find the most similar items to this one\n",
    "       scores=topMatches(itemPrefs,item,n=n,similarity=sim_distance)\n",
    "       result[item]=scores\n",
    "            \n",
    "   return result"
   ]
  },
  {
   "cell_type": "code",
   "execution_count": 78,
   "metadata": {
    "collapsed": false
   },
   "outputs": [
    {
     "data": {
      "text/plain": [
       "{'bag': [(0.5, 'sock'),\n",
       "  (0.5, 'shoes'),\n",
       "  (0.5, 'shirt'),\n",
       "  (0.3333333333333333, 'e-book'),\n",
       "  (0.2, 'mouse'),\n",
       "  (0.14285714285714285, 'shampoo'),\n",
       "  (0.14285714285714285, 'phone'),\n",
       "  (0.14285714285714285, 'notebook'),\n",
       "  (0, 'table'),\n",
       "  (0, 'cap')],\n",
       " 'cap': [(1.0, 'table'),\n",
       "  (1.0, 'mouse'),\n",
       "  (0.5, 'shampoo'),\n",
       "  (0.14285714285714285, 'sock'),\n",
       "  (0.1, 'shoes'),\n",
       "  (0.1, 'shirt'),\n",
       "  (0, 'phone'),\n",
       "  (0, 'notebook'),\n",
       "  (0, 'e-book'),\n",
       "  (0, 'bag')],\n",
       " 'e-book': [(0.5, 'sock'),\n",
       "  (0.5, 'shoes'),\n",
       "  (0.5, 'shirt'),\n",
       "  (0.3333333333333333, 'bag'),\n",
       "  (0.2, 'shampoo'),\n",
       "  (0.16666666666666666, 'mouse'),\n",
       "  (0.14285714285714285, 'notebook'),\n",
       "  (0.1111111111111111, 'phone'),\n",
       "  (0, 'table'),\n",
       "  (0, 'cap')],\n",
       " 'mouse': [(1.0, 'cap'),\n",
       "  (0.3333333333333333, 'notebook'),\n",
       "  (0.2, 'bag'),\n",
       "  (0.16666666666666666, 'sock'),\n",
       "  (0.16666666666666666, 'phone'),\n",
       "  (0.16666666666666666, 'e-book'),\n",
       "  (0.1111111111111111, 'shoes'),\n",
       "  (0.1111111111111111, 'shirt'),\n",
       "  (0.09090909090909091, 'shampoo'),\n",
       "  (0, 'table')],\n",
       " 'notebook': [(1.0, 'sock'),\n",
       "  (1.0, 'shoes'),\n",
       "  (1.0, 'shirt'),\n",
       "  (0.3333333333333333, 'mouse'),\n",
       "  (0.14285714285714285, 'phone'),\n",
       "  (0.14285714285714285, 'e-book'),\n",
       "  (0.14285714285714285, 'bag'),\n",
       "  (0.09090909090909091, 'shampoo'),\n",
       "  (0, 'table'),\n",
       "  (0, 'cap')],\n",
       " 'phone': [(1.0, 'shampoo'),\n",
       "  (0.5, 'sock'),\n",
       "  (0.5, 'shoes'),\n",
       "  (0.5, 'shirt'),\n",
       "  (0.16666666666666666, 'mouse'),\n",
       "  (0.14285714285714285, 'notebook'),\n",
       "  (0.14285714285714285, 'bag'),\n",
       "  (0.1111111111111111, 'e-book'),\n",
       "  (0, 'table'),\n",
       "  (0, 'cap')],\n",
       " 'shampoo': [(1.0, 'phone'),\n",
       "  (0.5, 'table'),\n",
       "  (0.5, 'cap'),\n",
       "  (0.2, 'e-book'),\n",
       "  (0.14285714285714285, 'sock'),\n",
       "  (0.14285714285714285, 'bag'),\n",
       "  (0.1, 'shirt'),\n",
       "  (0.09090909090909091, 'notebook'),\n",
       "  (0.09090909090909091, 'mouse'),\n",
       "  (0.07142857142857142, 'shoes')],\n",
       " 'shirt': [(1.0, 'notebook'),\n",
       "  (0.5, 'table'),\n",
       "  (0.5, 'sock'),\n",
       "  (0.5, 'phone'),\n",
       "  (0.5, 'e-book'),\n",
       "  (0.5, 'bag'),\n",
       "  (0.2, 'shoes'),\n",
       "  (0.1111111111111111, 'mouse'),\n",
       "  (0.1, 'shampoo'),\n",
       "  (0.1, 'cap')],\n",
       " 'shoes': [(1.0, 'notebook'),\n",
       "  (0.5, 'table'),\n",
       "  (0.5, 'phone'),\n",
       "  (0.5, 'e-book'),\n",
       "  (0.5, 'bag'),\n",
       "  (0.2, 'shirt'),\n",
       "  (0.16666666666666666, 'sock'),\n",
       "  (0.1111111111111111, 'mouse'),\n",
       "  (0.1, 'cap'),\n",
       "  (0.07142857142857142, 'shampoo')],\n",
       " 'sock': [(1.0, 'notebook'),\n",
       "  (0.5, 'table'),\n",
       "  (0.5, 'shirt'),\n",
       "  (0.5, 'phone'),\n",
       "  (0.5, 'e-book'),\n",
       "  (0.5, 'bag'),\n",
       "  (0.16666666666666666, 'shoes'),\n",
       "  (0.16666666666666666, 'mouse'),\n",
       "  (0.14285714285714285, 'shampoo'),\n",
       "  (0.14285714285714285, 'cap')],\n",
       " 'table': [(1.0, 'cap'),\n",
       "  (0.5, 'sock'),\n",
       "  (0.5, 'shoes'),\n",
       "  (0.5, 'shirt'),\n",
       "  (0.5, 'shampoo'),\n",
       "  (0, 'phone'),\n",
       "  (0, 'notebook'),\n",
       "  (0, 'mouse'),\n",
       "  (0, 'e-book'),\n",
       "  (0, 'bag')]}"
      ]
     },
     "execution_count": 78,
     "metadata": {},
     "output_type": "execute_result"
    }
   ],
   "source": [
    "prod_sim = calculateSimilarItems(shopping)\n",
    "prod_sim"
   ]
  },
  {
   "cell_type": "markdown",
   "metadata": {},
   "source": [
    "#### 3. Getting Recommendations for products. "
   ]
  },
  {
   "cell_type": "code",
   "execution_count": 75,
   "metadata": {
    "collapsed": false
   },
   "outputs": [],
   "source": [
    "def getRecommendedItems(prefs,itemMatch,user):\n",
    "    userRatings=prefs[user]\n",
    "    scores={}\n",
    "    totalSim={}\n",
    "    \n",
    "    # Loop over products rated by this user\n",
    "    for (item,rating) in userRatings.items( ):\n",
    "        \n",
    "        # Loop over items similar to this one        \n",
    "        for (similarity,item2) in itemMatch[item]:\n",
    "            \n",
    "            # Ignore if this user has already rated this product            \n",
    "            if item2 in userRatings: continue\n",
    "                \n",
    "            # Weighted sum of rating times similarity            \n",
    "            scores.setdefault(item2,0)\n",
    "            scores[item2]+=similarity*rating\n",
    "            \n",
    "            # Sum of all the similarities\n",
    "            totalSim.setdefault(item2,0)\n",
    "            totalSim[item2]+=similarity\n",
    "            \n",
    "    # Divide each total score by total weighting to get an average\n",
    "    rankings=[(score/totalSim[item],item) for item,score in scores.items( )]\n",
    "    \n",
    "    # Return the rankings from highest to lowest\n",
    "    rankings.sort( )\n",
    "    rankings.reverse( )\n",
    "    return rankings"
   ]
  },
  {
   "cell_type": "code",
   "execution_count": 79,
   "metadata": {
    "collapsed": false
   },
   "outputs": [
    {
     "data": {
      "text/plain": [
       "[(2.7522123893805306, 'notebook'),\n",
       " (2.6279069767441867, 'bag'),\n",
       " (2.607142857142857, 'e-book'),\n",
       " (2.1250000000000004, 'phone'),\n",
       " (2.0, 'table')]"
      ]
     },
     "execution_count": 79,
     "metadata": {},
     "output_type": "execute_result"
    }
   ],
   "source": [
    "getRecommendedItems(shopping, prod_sim, 'Toby')"
   ]
  }
 ],
 "metadata": {
  "kernelspec": {
   "display_name": "Python 2",
   "language": "python",
   "name": "python2"
  },
  "language_info": {
   "codemirror_mode": {
    "name": "ipython",
    "version": 2
   },
   "file_extension": ".py",
   "mimetype": "text/x-python",
   "name": "python",
   "nbconvert_exporter": "python",
   "pygments_lexer": "ipython2",
   "version": "2.7.9"
  }
 },
 "nbformat": 4,
 "nbformat_minor": 0
}
