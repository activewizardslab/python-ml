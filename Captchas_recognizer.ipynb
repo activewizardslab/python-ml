{
 "metadata": {
  "name": "",
  "signature": "sha256:6568db19973097ccacbb7c5da6fbb0525e1cb22081a6dc81252247da3b02273b"
 },
 "nbformat": 3,
 "nbformat_minor": 0,
 "worksheets": [
  {
   "cells": [
    {
     "cell_type": "heading",
     "level": 4,
     "metadata": {},
     "source": [
      "1. Import packages and functions."
     ]
    },
    {
     "cell_type": "code",
     "collapsed": false,
     "input": [
      "import PIL\n",
      "import Image\n",
      "import pandas as pd\n",
      "\n",
      "from sklearn import decomposition\n",
      "\n",
      "from sklearn.svm import SVC\n",
      "\n",
      "from sklearn.metrics import accuracy_score\n",
      "from sklearn.metrics import precision_score\n",
      "\n",
      "from sklearn.tree import DecisionTreeClassifier\n",
      "from sklearn.ensemble import RandomForestClassifier\n",
      "from sklearn.ensemble import ExtraTreesClassifier\n",
      "from sklearn.ensemble import AdaBoostClassifier"
     ],
     "language": "python",
     "metadata": {},
     "outputs": [],
     "prompt_number": 463
    },
    {
     "cell_type": "heading",
     "level": 4,
     "metadata": {},
     "source": [
      "2. Assign directories."
     ]
    },
    {
     "cell_type": "code",
     "collapsed": false,
     "input": [
      "rawPath = \"C:/Users/DDGroup/Desktop/data/\"\n",
      "dataPath = \"C:/Users/DDGroup/Desktop/data/\"\n",
      "outPath = \"C:/Users/DDGroup/Desktop/data/results/\"\n",
      "dataPath_image = \"C:/Users/DDGroup/Desktop/data/captchas_097-264/\"\n",
      "outPath_image = \"C:/Users/DDGroup/Desktop/data/captchas_097-264_image/\"\n",
      "outPath_letters = \"C:/Users/DDGroup/Desktop/data/captchas_097-264_letters/\""
     ],
     "language": "python",
     "metadata": {},
     "outputs": [],
     "prompt_number": 464
    },
    {
     "cell_type": "heading",
     "level": 4,
     "metadata": {},
     "source": [
      "3. Initialize global variables."
     ]
    },
    {
     "cell_type": "code",
     "collapsed": false,
     "input": [
      "list1 = pd.read_csv(dataPath + \"captchas.csv\")\n",
      "filelist = list1['image']\n",
      "m = len(filelist)\n",
      "list_of_column_names = range(104)\n",
      "train1 = pd.DataFrame(columns=list_of_column_names)\n",
      "train2 = pd.DataFrame(columns=list_of_column_names)\n",
      "train3 = pd.DataFrame(columns=list_of_column_names)\n",
      "train4 = pd.DataFrame(columns=list_of_column_names)\n",
      "train5 = pd.DataFrame(columns=list_of_column_names)\n",
      "pixels=[]"
     ],
     "language": "python",
     "metadata": {},
     "outputs": [],
     "prompt_number": 465
    },
    {
     "cell_type": "heading",
     "level": 4,
     "metadata": {},
     "source": [
      "4. Prepare the data for training"
     ]
    },
    {
     "cell_type": "code",
     "collapsed": false,
     "input": [
      "def delete_noise(im):\n",
      "    for y in xrange(1, im.size[0] - 1):\n",
      "        for x in xrange(1, im.size[1] - 1):\n",
      "            pix = im.getpixel((y, x))\n",
      "            if pix != 255:\n",
      "                border = [\n",
      "                    im.getpixel((y + 1, x - 1)),\n",
      "                    im.getpixel((y + 1, x)),\n",
      "                    im.getpixel((y + 1, x + 1)),\n",
      "                    im.getpixel((y, x - 1)),\n",
      "                    im.getpixel((y, x + 1)),\n",
      "                    im.getpixel((y - 1, x - 1)),\n",
      "                    im.getpixel((y - 1, x)),\n",
      "                    im.getpixel((y - 1, x + 1))\n",
      "                ]\n",
      "                if not 0 in border:\n",
      "                    im.putpixel((y, x), 255)\n",
      "    return im\n",
      "\n",
      "def cleaning_image_black_white(filelist):\n",
      "    for imagefile in filelist:\n",
      "        im=Image.open(dataPath_image + imagefile)\n",
      "        im = im.convert('L')\n",
      "        im = im.point(lambda x: 255 if x>1 else x)\n",
      "        delete_noise(im)\n",
      "        basewidth = 50\n",
      "        wpercent = (basewidth / float(im.size[0]))\n",
      "        hsize = int((float(im.size[1]) * float(wpercent)))\n",
      "        im = im.resize((basewidth, hsize), Image.ANTIALIAS)\n",
      "        im.save(outPath_image + '%s'%imagefile)\n",
      "        \n",
      "        \n",
      "def cleaning_image(filelist):\n",
      "    for imagefile in filelist:\n",
      "        im=Image.open(outPath_image + imagefile)\n",
      "        im = im.convert('L')\n",
      "        im = im.point(lambda x: 255 if x>80 else x)\n",
      "        im.save(outPath_image + '%s'%imagefile)\n",
      "        \n",
      "def cut_letters(filelist):\n",
      "    for imagefile in filelist:\n",
      "        im=Image.open(outPath_image + imagefile)\n",
      "        im.crop((1, 0, 9, 13)).save(outPath_letters + \"%s-1.png\"%imagefile)\n",
      "        im.crop((9, 0, 17, 13)).save(outPath_letters + \"%s-2.png\"%imagefile)\n",
      "        im.crop((17, 0, 25, 13)).save(outPath_letters + \"%s-3.png\"%imagefile)\n",
      "        im.crop((25, 0, 33, 13)).save(outPath_letters + \"%s-4.png\"%imagefile)\n",
      "        im.crop((33, 0, 41, 13)).save(outPath_letters + \"%s-5.png\"%imagefile)\n",
      "        \n",
      "def letter1_in_pixels(filelist):\n",
      "    for k, imagefile in enumerate(filelist):            \n",
      "            im=Image.open(outPath_letters + \"%s-1.png\"%imagefile)\n",
      "            train1.loc[k] = list(im.getdata())\n",
      "    train11 = pd.concat([list1[\"captcha\"], train1],axis=1)\n",
      "    for k in range(m):\n",
      "        train11[\"captcha\"][k] = train11[\"captcha\"][k][0]\n",
      "    return train11  \n",
      "\n",
      "\n",
      "def letter2_in_pixels(filelist):\n",
      "    for k, imagefile in enumerate(filelist):            \n",
      "            im=Image.open(outPath_letters + \"%s-2.png\"%imagefile)\n",
      "            train2.loc[k] = list(im.getdata())\n",
      "    train22 = pd.concat([list1[\"captcha\"], train2],axis=1)\n",
      "    for k in range(m):\n",
      "        train22[\"captcha\"][k] = train22[\"captcha\"][k][1]\n",
      "    return train22\n",
      "\n",
      "\n",
      "def letter3_in_pixels(filelist):\n",
      "    for k, imagefile in enumerate(filelist):            \n",
      "            im=Image.open(outPath_letters + \"%s-3.png\"%imagefile)\n",
      "            train3.loc[k] = list(im.getdata())\n",
      "    train33 = pd.concat([list1[\"captcha\"], train3],axis=1)\n",
      "    for k in range(m):\n",
      "        train33[\"captcha\"][k] = train33[\"captcha\"][k][2]\n",
      "    return train33\n",
      "\n",
      "\n",
      "def letter4_in_pixels(filelist):\n",
      "    for k, imagefile in enumerate(filelist):            \n",
      "            im=Image.open(outPath_letters + \"%s-4.png\"%imagefile)\n",
      "            train4.loc[k] = list(im.getdata())\n",
      "    train44 = pd.concat([list1[\"captcha\"], train4],axis=1)\n",
      "    for k in range(m):\n",
      "        train44[\"captcha\"][k] = train44[\"captcha\"][k][3]\n",
      "    return train44\n",
      "\n",
      "\n",
      "def letter5_in_pixels(filelist):\n",
      "    for k, imagefile in enumerate(filelist):            \n",
      "            im=Image.open(outPath_letters + \"%s-5.png\"%imagefile)\n",
      "            train5.loc[k] = list(im.getdata())\n",
      "    train55 = pd.concat([list1[\"captcha\"], train5],axis=1)\n",
      "    for k in range(m):\n",
      "        train55[\"captcha\"][k] = train55[\"captcha\"][k][4]\n",
      "    return train55\n",
      "\n"
     ],
     "language": "python",
     "metadata": {},
     "outputs": [],
     "prompt_number": 466
    },
    {
     "cell_type": "heading",
     "level": 4,
     "metadata": {},
     "source": [
      "5. Run classifications."
     ]
    },
    {
     "cell_type": "code",
     "collapsed": false,
     "input": [
      "def loadData(datafile):\n",
      "    return pd.read_csv(datafile)\n",
      "\n",
      "def decomPCA(train, test):\n",
      "    pca = decomposition.PCA(n_components=256, whiten=True)\n",
      "    train = pca.fit_transform(train)\n",
      "    test = pca.transform(test)\n",
      "    return train, test\n",
      "\n",
      "def createSVM():\n",
      "    clf = SVC()\n",
      "    return clf\n",
      "\n",
      "def createDecisionTree():\n",
      "    clf = DecisionTreeClassifier(max_depth=None, min_samples_split=1, random_state=0)\n",
      "    return clf\n",
      "\n",
      "def createRandomForest():\n",
      "    clf = RandomForestClassifier(n_estimators=500, max_depth=None, min_samples_split=1, random_state=0)\n",
      "    return clf\n",
      "\n",
      "def createExtraTree():\n",
      "    clf = ExtraTreesClassifier(n_estimators=100, max_depth=None, min_samples_split=1, random_state=0)\n",
      "    return clf\n",
      "\n",
      "def createAdaBoost():\n",
      "    dt = DecisionTreeClassifier(max_depth=None, min_samples_split=1, random_state=0)\n",
      "    clf = AdaBoostClassifier(dt, n_estimators=300)\n",
      "    return clf\n",
      "\n",
      "def classify(clf, train, cols, target, test, filePath):\n",
      "    clf.fit(train[cols], train[target])\n",
      "\n",
      "    with open(filePath, \"wb\") as outfile:\n",
      "        outfile.write(\"ImageId,Label\\n\")\n",
      "        for index, value in enumerate(list(clf.predict(test[cols]))):\n",
      "            outfile.write(\"%s,%s\\n\" % (index+1, value))\n",
      "\n",
      "def chooseDataset(dataset):\n",
      "    if dataset == 1:\n",
      "        train = loadData(rawPath + \"train.csv\")\n",
      "        test = loadData(rawPath + \"test.csv\")\n",
      "    elif dataset == 2:\n",
      "        train = loadData(dataPath + \"train.csv\")\n",
      "        test = loadData(dataPath + \"test.csv\")\n",
      "    return train, test\n",
      "\n",
      "\n",
      "def chooseAlgorithms(algo, train, test, target, features):\n",
      "\n",
      "    if algo == 0:\n",
      "\n",
      "        clf = createDecisionTree()\n",
      "        classify(clf, train, features, target, test, outPath+\"submission-decisiontree.csv\")        \n",
      "\n",
      "        clf = createRandomForest()\n",
      "        classify(clf, train, features, target, test, outPath+\"submission-randomforest.csv\")\n",
      "\n",
      "        clf = createExtraTree()\n",
      "        classify(clf, train, features, target, test, outPath+\"submission-extratree.csv\")\n",
      "\n",
      "        clf = createAdaBoost()\n",
      "        classify(clf, train, features, target, test, outPath+\"submission-adaboost.csv\")\n",
      "\n",
      "        clf = createSVM()\n",
      "        classify(clf, train, features, target, test, outPath+\"submission-svm.csv\")\n",
      "\n",
      "    elif algo == 1:\n",
      "        clf = createDecisionTree()\n",
      "        classify(clf, train, features, target, test, outPath+\"submission-decisiontree.csv\")\n",
      "\n",
      "    elif algo == 2:\n",
      "        clf = createRandomForest()\n",
      "        classify(clf, train, features, target, test, outPath+\"submission-randomforest.csv\")\n",
      "    \n",
      "    elif algo == 3:\n",
      "        clf = createExtraTree()\n",
      "        classify(clf, train, features, target, test, outPath+\"submission-extratree.csv\")\n",
      "\n",
      "    elif algo == 4:\n",
      "        clf = createAdaBoost()\n",
      "        classify(clf, train, features, target, test, outPath+\"submission-adaboost.csv\")\n",
      "\n",
      "    elif algo == 5:\n",
      "        clf = createSVM()\n",
      "        classify(clf, train, features, target, test, outPath+\"submission-svm.csv\")   \n",
      "\n",
      "def main():\n",
      "\n",
      "    dataset = 2\n",
      "    train, test = chooseDataset(dataset)    \n",
      "\n",
      "    target = 'captcha'\n",
      "    features = [col for col in train.columns if col not in ['captcha']]    \n",
      "    \n",
      "    chooseAlgorithms(algo, train, test, target, features)"
     ],
     "language": "python",
     "metadata": {},
     "outputs": [],
     "prompt_number": 467
    },
    {
     "cell_type": "heading",
     "level": 4,
     "metadata": {},
     "source": [
      "6. Clean noise, cut letters, decode letters."
     ]
    },
    {
     "cell_type": "code",
     "collapsed": false,
     "input": [
      "cleaning_image_black_white(filelist)\n",
      "cleaning_image(filelist)\n",
      "cut_letters(filelist)"
     ],
     "language": "python",
     "metadata": {},
     "outputs": [],
     "prompt_number": 468
    },
    {
     "cell_type": "code",
     "collapsed": false,
     "input": [
      "train1 = letter1_in_pixels(filelist)\n",
      "train2 = letter2_in_pixels(filelist)\n",
      "train3 = letter3_in_pixels(filelist)\n",
      "train4 = letter4_in_pixels(filelist)\n",
      "train5 = letter5_in_pixels(filelist)"
     ],
     "language": "python",
     "metadata": {},
     "outputs": [],
     "prompt_number": 469
    },
    {
     "cell_type": "heading",
     "level": 4,
     "metadata": {},
     "source": [
      "7. Save training and test sets."
     ]
    },
    {
     "cell_type": "code",
     "collapsed": false,
     "input": [
      "train_general = pd.concat([train1, train2, train3, train4, train5])\n",
      "train = train_general[:600]\n",
      "train_check = train_general[601:]\n",
      "train.to_csv(dataPath + \"train.csv\", index=False)\n",
      "train_check.to_csv(dataPath + \"train_check.csv\", index=False)"
     ],
     "language": "python",
     "metadata": {},
     "outputs": [],
     "prompt_number": 470
    },
    {
     "cell_type": "code",
     "collapsed": false,
     "input": [
      "test = train_general[601:]\n",
      "features = [col for col in train.columns if col not in ['captcha']]\n",
      "test=test[features]\n",
      "test.to_csv(dataPath + \"test.csv\", index=False)"
     ],
     "language": "python",
     "metadata": {},
     "outputs": [],
     "prompt_number": 471
    },
    {
     "cell_type": "heading",
     "level": 4,
     "metadata": {},
     "source": [
      "8. Select method."
     ]
    },
    {
     "cell_type": "code",
     "collapsed": false,
     "input": [
      "algo=1"
     ],
     "language": "python",
     "metadata": {},
     "outputs": [],
     "prompt_number": 488
    },
    {
     "cell_type": "heading",
     "level": 4,
     "metadata": {},
     "source": [
      "9. Get results."
     ]
    },
    {
     "cell_type": "code",
     "collapsed": false,
     "input": [
      "if __name__ == '__main__':\n",
      "    main()"
     ],
     "language": "python",
     "metadata": {},
     "outputs": [],
     "prompt_number": 489
    },
    {
     "cell_type": "heading",
     "level": 4,
     "metadata": {},
     "source": [
      "10. Model evaluation."
     ]
    },
    {
     "cell_type": "code",
     "collapsed": false,
     "input": [
      "RF = pd.read_csv(outPath + \"submission-randomforest.csv\")\n",
      "svm = pd.read_csv(outPath + \"submission-svm.csv\")\n",
      "extra = pd.read_csv(outPath + \"submission-extratree.csv\")\n",
      "decision = pd.read_csv(outPath + \"submission-decisiontree.csv\")\n",
      "adaboost = pd.read_csv(outPath + \"submission-adaboost.csv\")"
     ],
     "language": "python",
     "metadata": {},
     "outputs": [],
     "prompt_number": 397
    },
    {
     "cell_type": "code",
     "collapsed": false,
     "input": [
      "y_true = train_check\n",
      "y_true.index = range(len(y_true))\n",
      "y_true = y_true[\"captcha\"]"
     ],
     "language": "python",
     "metadata": {},
     "outputs": [],
     "prompt_number": 434
    },
    {
     "cell_type": "code",
     "collapsed": false,
     "input": [],
     "language": "python",
     "metadata": {},
     "outputs": []
    },
    {
     "cell_type": "code",
     "collapsed": false,
     "input": [
      "accuracy_score(y_true, extra[\"Label\"], normalize=True, sample_weight=None)"
     ],
     "language": "python",
     "metadata": {},
     "outputs": [
      {
       "metadata": {},
       "output_type": "pyout",
       "prompt_number": 456,
       "text": [
        "0.28870292887029286"
       ]
      }
     ],
     "prompt_number": 456
    },
    {
     "cell_type": "code",
     "collapsed": false,
     "input": [
      "precision_score(y_true, extra[\"Label\"])"
     ],
     "language": "python",
     "metadata": {},
     "outputs": [
      {
       "metadata": {},
       "output_type": "pyout",
       "prompt_number": 457,
       "text": [
        "0.46065586430478911"
       ]
      }
     ],
     "prompt_number": 457
    },
    {
     "cell_type": "code",
     "collapsed": false,
     "input": [
      "accuracy_score(y_true, RF[\"Label\"], normalize=True, sample_weight=None)"
     ],
     "language": "python",
     "metadata": {},
     "outputs": [
      {
       "metadata": {},
       "output_type": "pyout",
       "prompt_number": 438,
       "text": [
        "0.26778242677824265"
       ]
      }
     ],
     "prompt_number": 438
    },
    {
     "cell_type": "code",
     "collapsed": false,
     "input": [
      "precision_score(y_true, RF[\"Label\"])"
     ],
     "language": "python",
     "metadata": {},
     "outputs": [
      {
       "metadata": {},
       "output_type": "pyout",
       "prompt_number": 462,
       "text": [
        "0.47997609085475196"
       ]
      }
     ],
     "prompt_number": 462
    },
    {
     "cell_type": "code",
     "collapsed": false,
     "input": [
      "accuracy_score(y_true, adaboost[\"Label\"], normalize=True, sample_weight=None)"
     ],
     "language": "python",
     "metadata": {},
     "outputs": [
      {
       "metadata": {},
       "output_type": "pyout",
       "prompt_number": 435,
       "text": [
        "0.13807531380753138"
       ]
      }
     ],
     "prompt_number": 435
    },
    {
     "cell_type": "code",
     "collapsed": false,
     "input": [
      "precision_score(y_true, adaboost[\"Label\"])"
     ],
     "language": "python",
     "metadata": {},
     "outputs": [
      {
       "metadata": {},
       "output_type": "pyout",
       "prompt_number": 459,
       "text": [
        "0.23218059253624104"
       ]
      }
     ],
     "prompt_number": 459
    },
    {
     "cell_type": "code",
     "collapsed": false,
     "input": [
      "accuracy_score(y_true, decision[\"Label\"], normalize=True, sample_weight=None)"
     ],
     "language": "python",
     "metadata": {},
     "outputs": [
      {
       "metadata": {},
       "output_type": "pyout",
       "prompt_number": 436,
       "text": [
        "0.1297071129707113"
       ]
      }
     ],
     "prompt_number": 436
    },
    {
     "cell_type": "code",
     "collapsed": false,
     "input": [
      "precision_score(y_true, decision[\"Label\"])"
     ],
     "language": "python",
     "metadata": {},
     "outputs": [
      {
       "metadata": {},
       "output_type": "pyout",
       "prompt_number": 460,
       "text": [
        "0.21252896886567885"
       ]
      }
     ],
     "prompt_number": 460
    },
    {
     "cell_type": "code",
     "collapsed": false,
     "input": [
      "accuracy_score(y_true, svm[\"Label\"], normalize=True, sample_weight=None)"
     ],
     "language": "python",
     "metadata": {},
     "outputs": [
      {
       "metadata": {},
       "output_type": "pyout",
       "prompt_number": 437,
       "text": [
        "0.033472803347280332"
       ]
      }
     ],
     "prompt_number": 437
    },
    {
     "cell_type": "code",
     "collapsed": false,
     "input": [
      "precision_score(y_true, svm[\"Label\"])"
     ],
     "language": "python",
     "metadata": {},
     "outputs": [
      {
       "metadata": {},
       "output_type": "pyout",
       "prompt_number": 461,
       "text": [
        "0.0011204285639257014"
       ]
      }
     ],
     "prompt_number": 461
    },
    {
     "cell_type": "code",
     "collapsed": false,
     "input": [],
     "language": "python",
     "metadata": {},
     "outputs": []
    }
   ],
   "metadata": {}
  }
 ]
}